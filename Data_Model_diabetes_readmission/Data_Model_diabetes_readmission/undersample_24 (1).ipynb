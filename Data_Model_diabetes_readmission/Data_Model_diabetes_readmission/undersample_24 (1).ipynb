{
 "cells": [
  {
   "cell_type": "code",
   "execution_count": 1,
   "metadata": {
    "collapsed": true
   },
   "outputs": [],
   "source": [
    "import numpy as np\n",
    "import pandas as pd\n",
    "from statistics import mode\n",
    "import matplotlib.pyplot as plt"
   ]
  },
  {
   "cell_type": "code",
   "execution_count": 2,
   "metadata": {
    "collapsed": true
   },
   "outputs": [],
   "source": [
    "train = pd.read_csv(\"Train.csv\")\n",
    "train_diag = pd.read_csv(\"Train_Diagnosis_TreatmentData.csv\")\n",
    "train_hosp = pd.read_csv(\"Train_HospitalizationData.csv\")\n",
    "test = pd.read_csv(\"Test.csv\")\n",
    "test_diag = pd.read_csv(\"Test_Diagnosis_TreatmentData.csv\")\n",
    "test_hosp = pd.read_csv(\"Test_HospitalizationData.csv\")\n"
   ]
  },
  {
   "cell_type": "code",
   "execution_count": 3,
   "metadata": {},
   "outputs": [
    {
     "name": "stdout",
     "output_type": "stream",
     "text": [
      "(34650, 45)\n"
     ]
    }
   ],
   "source": [
    "df1 = pd.merge(train, train_diag, on='patientID')\n",
    "df = pd.merge(df1, train_hosp, on='patientID')\n",
    "print(df.shape)"
   ]
  },
  {
   "cell_type": "code",
   "execution_count": 4,
   "metadata": {},
   "outputs": [
    {
     "name": "stdout",
     "output_type": "stream",
     "text": [
      "(14630, 44)\n"
     ]
    }
   ],
   "source": [
    "df1_test = pd.merge(test, test_diag, on='patientID')\n",
    "df_test = pd.merge(df1_test, test_hosp, on='patientID')\n",
    "print(df_test.shape)\n"
   ]
  },
  {
   "cell_type": "code",
   "execution_count": 5,
   "metadata": {},
   "outputs": [
    {
     "data": {
      "text/plain": [
       "0    PT60251\n",
       "1    PT60252\n",
       "2    PT60253\n",
       "3    PT60254\n",
       "4    PT60255\n",
       "Name: patientID, dtype: object"
      ]
     },
     "execution_count": 5,
     "metadata": {},
     "output_type": "execute_result"
    }
   ],
   "source": [
    "patient = df_test[\"patientID\"]\n",
    "patient.head()"
   ]
  },
  {
   "cell_type": "code",
   "execution_count": 6,
   "metadata": {
    "collapsed": true
   },
   "outputs": [],
   "source": [
    "columns = ['race','gender','age','admission_type_id','discharge_disposition_id','Admission_date', 'Discharge_date', 'num_lab_procedures', 'num_procedures', 'num_medications', 'num_diagnoses', 'diagnosis_1', 'diagnosis_2', 'diagnosis_3', 'max_glu_serum', 'A1Cresult','metformin','repaglinide', 'nateglinide','chlorpropamide', 'glimepiride', 'glipizide', 'glyburide', 'pioglitazone', 'rosiglitazone', 'acarbose', 'insulin', 'change', 'diabetesMed','readmitted']\n",
    "train = pd.DataFrame(df, columns=columns)\n",
    "columns_test = ['race','gender','age','admission_type_id','discharge_disposition_id','Admission_date', 'Discharge_date', 'num_lab_procedures', 'num_procedures', 'num_medications', 'num_diagnoses', 'diagnosis_1', 'diagnosis_2', 'diagnosis_3', 'max_glu_serum', 'A1Cresult','metformin','repaglinide', 'nateglinide','chlorpropamide', 'glimepiride', 'glipizide', 'glyburide', 'pioglitazone', 'rosiglitazone', 'acarbose', 'insulin', 'change', 'diabetesMed']\n",
    "test = pd.DataFrame(df_test, columns=columns_test)"
   ]
  },
  {
   "cell_type": "code",
   "execution_count": 7,
   "metadata": {},
   "outputs": [
    {
     "name": "stdout",
     "output_type": "stream",
     "text": [
      "race 1079\n",
      "gender 0\n",
      "age 0\n",
      "Admission_date 0\n",
      "Discharge_date 0\n",
      "diagnosis_1 6\n",
      "diagnosis_2 179\n",
      "diagnosis_3 681\n",
      "max_glu_serum 0\n",
      "A1Cresult 0\n",
      "metformin 0\n",
      "repaglinide 0\n",
      "nateglinide 0\n",
      "chlorpropamide 0\n",
      "glimepiride 0\n",
      "glipizide 0\n",
      "glyburide 0\n",
      "pioglitazone 0\n",
      "rosiglitazone 0\n",
      "acarbose 0\n",
      "insulin 0\n",
      "change 0\n",
      "diabetesMed 0\n",
      "readmitted 0\n",
      "race 432\n",
      "gender 0\n",
      "age 0\n",
      "Admission_date 0\n",
      "Discharge_date 0\n",
      "diagnosis_1 3\n",
      "diagnosis_2 65\n",
      "diagnosis_3 286\n",
      "max_glu_serum 0\n",
      "A1Cresult 0\n",
      "metformin 0\n",
      "repaglinide 0\n",
      "nateglinide 0\n",
      "chlorpropamide 0\n",
      "glimepiride 0\n",
      "glipizide 0\n",
      "glyburide 0\n",
      "pioglitazone 0\n",
      "rosiglitazone 0\n",
      "acarbose 0\n",
      "insulin 0\n",
      "change 0\n",
      "diabetesMed 0\n"
     ]
    }
   ],
   "source": [
    "for col in train.columns:\n",
    "    if train[col].dtype == object:\n",
    "         print(col,train[col][train[col] == '?'].count())\n",
    "            \n",
    "for col in test.columns:\n",
    "    if test[col].dtype == object:\n",
    "         print(col,test[col][test[col] == '?'].count())"
   ]
  },
  {
   "cell_type": "code",
   "execution_count": 8,
   "metadata": {},
   "outputs": [
    {
     "name": "stdout",
     "output_type": "stream",
     "text": [
      "race                        1079\n",
      "gender                         0\n",
      "age                            0\n",
      "admission_type_id              0\n",
      "discharge_disposition_id       0\n",
      "Admission_date                 0\n",
      "Discharge_date                 0\n",
      "num_lab_procedures             0\n",
      "num_procedures                 0\n",
      "num_medications                0\n",
      "num_diagnoses                  0\n",
      "diagnosis_1                    6\n",
      "diagnosis_2                  179\n",
      "diagnosis_3                  681\n",
      "max_glu_serum                  0\n",
      "A1Cresult                      0\n",
      "metformin                      0\n",
      "repaglinide                    0\n",
      "nateglinide                    0\n",
      "chlorpropamide                 0\n",
      "glimepiride                    0\n",
      "glipizide                      0\n",
      "glyburide                      0\n",
      "pioglitazone                   0\n",
      "rosiglitazone                  0\n",
      "acarbose                       0\n",
      "insulin                        0\n",
      "change                         0\n",
      "diabetesMed                    0\n",
      "readmitted                     0\n",
      "dtype: int64\n",
      "race                        432\n",
      "gender                        0\n",
      "age                           0\n",
      "admission_type_id             0\n",
      "discharge_disposition_id      0\n",
      "Admission_date                0\n",
      "Discharge_date                0\n",
      "num_lab_procedures            0\n",
      "num_procedures                0\n",
      "num_medications               0\n",
      "num_diagnoses                 0\n",
      "diagnosis_1                   3\n",
      "diagnosis_2                  65\n",
      "diagnosis_3                 286\n",
      "max_glu_serum                 0\n",
      "A1Cresult                     0\n",
      "metformin                     0\n",
      "repaglinide                   0\n",
      "nateglinide                   0\n",
      "chlorpropamide                0\n",
      "glimepiride                   0\n",
      "glipizide                     0\n",
      "glyburide                     0\n",
      "pioglitazone                  0\n",
      "rosiglitazone                 0\n",
      "acarbose                      0\n",
      "insulin                       0\n",
      "change                        0\n",
      "diabetesMed                   0\n",
      "dtype: int64\n"
     ]
    }
   ],
   "source": [
    "train = train.replace('?', np.NaN)    \n",
    "print(train.isnull().sum())\n",
    "test = test.replace('?', np.NaN)\n",
    "print(test.isnull().sum())"
   ]
  },
  {
   "cell_type": "code",
   "execution_count": 9,
   "metadata": {},
   "outputs": [
    {
     "name": "stdout",
     "output_type": "stream",
     "text": [
      "race                        0\n",
      "gender                      0\n",
      "age                         0\n",
      "admission_type_id           0\n",
      "discharge_disposition_id    0\n",
      "Admission_date              0\n",
      "Discharge_date              0\n",
      "num_lab_procedures          0\n",
      "num_procedures              0\n",
      "num_medications             0\n",
      "num_diagnoses               0\n",
      "diagnosis_1                 0\n",
      "diagnosis_2                 0\n",
      "diagnosis_3                 0\n",
      "max_glu_serum               0\n",
      "A1Cresult                   0\n",
      "metformin                   0\n",
      "repaglinide                 0\n",
      "nateglinide                 0\n",
      "chlorpropamide              0\n",
      "glimepiride                 0\n",
      "glipizide                   0\n",
      "glyburide                   0\n",
      "pioglitazone                0\n",
      "rosiglitazone               0\n",
      "acarbose                    0\n",
      "insulin                     0\n",
      "change                      0\n",
      "diabetesMed                 0\n",
      "readmitted                  0\n",
      "dtype: int64\n"
     ]
    }
   ],
   "source": [
    "train['diagnosis_1'] = train['diagnosis_1'].fillna(414)\n",
    "train['diagnosis_2'] = train['diagnosis_2'].fillna(250)\n",
    "train['diagnosis_3'] = train['diagnosis_3'].fillna(250)\n",
    "train['race'] = train['race'].fillna('Caucasian')\n",
    "print(train.isnull().sum())"
   ]
  },
  {
   "cell_type": "code",
   "execution_count": 10,
   "metadata": {},
   "outputs": [
    {
     "name": "stdout",
     "output_type": "stream",
     "text": [
      "race                        0\n",
      "gender                      0\n",
      "age                         0\n",
      "admission_type_id           0\n",
      "discharge_disposition_id    0\n",
      "Admission_date              0\n",
      "Discharge_date              0\n",
      "num_lab_procedures          0\n",
      "num_procedures              0\n",
      "num_medications             0\n",
      "num_diagnoses               0\n",
      "diagnosis_1                 0\n",
      "diagnosis_2                 0\n",
      "diagnosis_3                 0\n",
      "max_glu_serum               0\n",
      "A1Cresult                   0\n",
      "metformin                   0\n",
      "repaglinide                 0\n",
      "nateglinide                 0\n",
      "chlorpropamide              0\n",
      "glimepiride                 0\n",
      "glipizide                   0\n",
      "glyburide                   0\n",
      "pioglitazone                0\n",
      "rosiglitazone               0\n",
      "acarbose                    0\n",
      "insulin                     0\n",
      "change                      0\n",
      "diabetesMed                 0\n",
      "dtype: int64\n"
     ]
    }
   ],
   "source": [
    "test['diagnosis_1'] = test['diagnosis_1'].fillna(414)\n",
    "test['diagnosis_2'] = test['diagnosis_2'].fillna(250)\n",
    "test['diagnosis_3'] = test['diagnosis_3'].fillna(250)\n",
    "test['race'] = test['race'].fillna('Caucasian')\n",
    "print(test.isnull().sum())"
   ]
  },
  {
   "cell_type": "code",
   "execution_count": 11,
   "metadata": {},
   "outputs": [
    {
     "data": {
      "text/plain": [
       "0    29891\n",
       "1     4759\n",
       "Name: readmitted, dtype: int64"
      ]
     },
     "execution_count": 11,
     "metadata": {},
     "output_type": "execute_result"
    }
   ],
   "source": [
    "train['readmitted'] = train['readmitted'].map({'NO': 0, 'Within30days': 1})\n",
    "target = train['readmitted']\n",
    "target.value_counts()"
   ]
  },
  {
   "cell_type": "code",
   "execution_count": 12,
   "metadata": {},
   "outputs": [
    {
     "name": "stdout",
     "output_type": "stream",
     "text": [
      "(34650, 29)\n"
     ]
    }
   ],
   "source": [
    "train = train.drop(['readmitted'], axis=1)\n",
    "print(train.shape)"
   ]
  },
  {
   "cell_type": "code",
   "execution_count": 13,
   "metadata": {},
   "outputs": [
    {
     "data": {
      "text/html": [
       "<div>\n",
       "<style>\n",
       "    .dataframe thead tr:only-child th {\n",
       "        text-align: right;\n",
       "    }\n",
       "\n",
       "    .dataframe thead th {\n",
       "        text-align: left;\n",
       "    }\n",
       "\n",
       "    .dataframe tbody tr th {\n",
       "        vertical-align: top;\n",
       "    }\n",
       "</style>\n",
       "<table border=\"1\" class=\"dataframe\">\n",
       "  <thead>\n",
       "    <tr style=\"text-align: right;\">\n",
       "      <th></th>\n",
       "      <th>0</th>\n",
       "      <th>1</th>\n",
       "      <th>2</th>\n",
       "      <th>3</th>\n",
       "      <th>4</th>\n",
       "      <th>5</th>\n",
       "      <th>6</th>\n",
       "      <th>7</th>\n",
       "      <th>8</th>\n",
       "      <th>9</th>\n",
       "      <th>10</th>\n",
       "      <th>11</th>\n",
       "      <th>12</th>\n",
       "      <th>13</th>\n",
       "      <th>14</th>\n",
       "    </tr>\n",
       "  </thead>\n",
       "  <tbody>\n",
       "    <tr>\n",
       "      <th>diagnosis_1</th>\n",
       "      <td>198</td>\n",
       "      <td>153</td>\n",
       "      <td>535</td>\n",
       "      <td>786</td>\n",
       "      <td>250.02</td>\n",
       "      <td>786</td>\n",
       "      <td>428</td>\n",
       "      <td>824</td>\n",
       "      <td>491</td>\n",
       "      <td>276</td>\n",
       "      <td>157</td>\n",
       "      <td>820</td>\n",
       "      <td>786</td>\n",
       "      <td>288</td>\n",
       "      <td>996</td>\n",
       "    </tr>\n",
       "    <tr>\n",
       "      <th>level1_diag1</th>\n",
       "      <td>8</td>\n",
       "      <td>8</td>\n",
       "      <td>3</td>\n",
       "      <td>2</td>\n",
       "      <td>4</td>\n",
       "      <td>2</td>\n",
       "      <td>1</td>\n",
       "      <td>5</td>\n",
       "      <td>2</td>\n",
       "      <td>0</td>\n",
       "      <td>8</td>\n",
       "      <td>5</td>\n",
       "      <td>2</td>\n",
       "      <td>0</td>\n",
       "      <td>5</td>\n",
       "    </tr>\n",
       "  </tbody>\n",
       "</table>\n",
       "</div>"
      ],
      "text/plain": [
       "               0    1    2    3       4    5    6    7    8    9    10   11  \\\n",
       "diagnosis_1   198  153  535  786  250.02  786  428  824  491  276  157  820   \n",
       "level1_diag1    8    8    3    2       4    2    1    5    2    0    8    5   \n",
       "\n",
       "               12   13   14  \n",
       "diagnosis_1   786  288  996  \n",
       "level1_diag1    2    0    5  "
      ]
     },
     "execution_count": 13,
     "metadata": {},
     "output_type": "execute_result"
    }
   ],
   "source": [
    "train['level1_diag1'] = train['diagnosis_1']\n",
    "train.loc[train['diagnosis_1'].str.contains('V', na=False), ['level1_diag1']] = 0\n",
    "train.loc[train['diagnosis_1'].str.contains('E', na=False), ['level1_diag1']] = 0\n",
    "train['level1_diag1'] = train['level1_diag1'].astype('str').astype('double')\n",
    "\n",
    "for index, row in train.iterrows():\n",
    "    if (row['level1_diag1'] >= 390 and row['level1_diag1'] <= 460) or (np.floor(row['level1_diag1']) == 785):\n",
    "        train.loc[index, 'level1_diag1'] = 1\n",
    "    elif (row['level1_diag1'] > 460 and row['level1_diag1'] < 520) or (np.floor(row['level1_diag1']) == 786):\n",
    "        train.loc[index, 'level1_diag1'] = 2\n",
    "    elif (row['level1_diag1'] > 520 and row['level1_diag1'] < 580) or (np.floor(row['level1_diag1']) == 787):\n",
    "        train.loc[index, 'level1_diag1'] = 3\n",
    "    elif (np.floor(row['level1_diag1']) == 250):\n",
    "        train.loc[index, 'level1_diag1'] = 4\n",
    "    elif (row['level1_diag1'] > 800 and row['level1_diag1'] < 1000):\n",
    "        train.loc[index, 'level1_diag1'] = 5\n",
    "    elif (row['level1_diag1'] > 710 and row['level1_diag1'] < 740):\n",
    "        train.loc[index, 'level1_diag1'] = 6\n",
    "    elif (row['level1_diag1'] > 580 and row['level1_diag1'] < 630) or (np.floor(row['level1_diag1']) == 788):\n",
    "        train.loc[index, 'level1_diag1'] = 7\n",
    "    elif (row['level1_diag1'] > 140 and row['level1_diag1'] < 240):\n",
    "        train.loc[index, 'level1_diag1'] = 8\n",
    "    else:\n",
    "        train.loc[index, 'level1_diag1'] = 0\n",
    "# convert this variable to float type to enable computations later\n",
    "train['level1_diag1'] = train['level1_diag1'].astype(float)\n",
    "train[['diagnosis_1','level1_diag1']].head(15).T"
   ]
  },
  {
   "cell_type": "code",
   "execution_count": 14,
   "metadata": {},
   "outputs": [
    {
     "data": {
      "text/html": [
       "<div>\n",
       "<style>\n",
       "    .dataframe thead tr:only-child th {\n",
       "        text-align: right;\n",
       "    }\n",
       "\n",
       "    .dataframe thead th {\n",
       "        text-align: left;\n",
       "    }\n",
       "\n",
       "    .dataframe tbody tr th {\n",
       "        vertical-align: top;\n",
       "    }\n",
       "</style>\n",
       "<table border=\"1\" class=\"dataframe\">\n",
       "  <thead>\n",
       "    <tr style=\"text-align: right;\">\n",
       "      <th></th>\n",
       "      <th>0</th>\n",
       "      <th>1</th>\n",
       "      <th>2</th>\n",
       "      <th>3</th>\n",
       "      <th>4</th>\n",
       "      <th>5</th>\n",
       "      <th>6</th>\n",
       "      <th>7</th>\n",
       "      <th>8</th>\n",
       "      <th>9</th>\n",
       "      <th>10</th>\n",
       "      <th>11</th>\n",
       "      <th>12</th>\n",
       "      <th>13</th>\n",
       "      <th>14</th>\n",
       "    </tr>\n",
       "  </thead>\n",
       "  <tbody>\n",
       "    <tr>\n",
       "      <th>diagnosis_2</th>\n",
       "      <td>403</td>\n",
       "      <td>250</td>\n",
       "      <td>250</td>\n",
       "      <td>411</td>\n",
       "      <td>490</td>\n",
       "      <td>530</td>\n",
       "      <td>486</td>\n",
       "      <td>250.01</td>\n",
       "      <td>438</td>\n",
       "      <td>599</td>\n",
       "      <td>197</td>\n",
       "      <td>410</td>\n",
       "      <td>250</td>\n",
       "      <td>162</td>\n",
       "      <td>413</td>\n",
       "    </tr>\n",
       "    <tr>\n",
       "      <th>level2_diag2</th>\n",
       "      <td>1</td>\n",
       "      <td>4</td>\n",
       "      <td>4</td>\n",
       "      <td>1</td>\n",
       "      <td>2</td>\n",
       "      <td>3</td>\n",
       "      <td>2</td>\n",
       "      <td>4</td>\n",
       "      <td>1</td>\n",
       "      <td>7</td>\n",
       "      <td>8</td>\n",
       "      <td>1</td>\n",
       "      <td>4</td>\n",
       "      <td>8</td>\n",
       "      <td>1</td>\n",
       "    </tr>\n",
       "  </tbody>\n",
       "</table>\n",
       "</div>"
      ],
      "text/plain": [
       "               0    1    2    3    4    5    6       7    8    9    10   11  \\\n",
       "diagnosis_2   403  250  250  411  490  530  486  250.01  438  599  197  410   \n",
       "level2_diag2    1    4    4    1    2    3    2       4    1    7    8    1   \n",
       "\n",
       "               12   13   14  \n",
       "diagnosis_2   250  162  413  \n",
       "level2_diag2    4    8    1  "
      ]
     },
     "execution_count": 14,
     "metadata": {},
     "output_type": "execute_result"
    }
   ],
   "source": [
    "train['level2_diag2'] = train['diagnosis_2']\n",
    "train.loc[train['diagnosis_2'].str.contains('V', na=False), ['level2_diag2']] = 0\n",
    "train.loc[train['diagnosis_2'].str.contains('E', na=False), ['level2_diag2']] = 0\n",
    "train['level2_diag2'] = train['level2_diag2'].astype('str').astype('double')\n",
    "\n",
    "for index, row in train.iterrows():\n",
    "    if (row['level2_diag2'] >= 390 and row['level2_diag2'] <= 460) or (np.floor(row['level2_diag2']) == 785):\n",
    "        train.loc[index, 'level2_diag2'] = 1\n",
    "    elif (row['level2_diag2'] > 460 and row['level2_diag2'] < 520) or (np.floor(row['level2_diag2']) == 786):\n",
    "        train.loc[index, 'level2_diag2'] = 2\n",
    "    elif (row['level2_diag2'] > 520 and row['level2_diag2'] < 580) or (np.floor(row['level2_diag2']) == 787):\n",
    "        train.loc[index, 'level2_diag2'] = 3\n",
    "    elif (np.floor(row['level2_diag2']) == 250):\n",
    "        train.loc[index, 'level2_diag2'] = 4\n",
    "    elif (row['level2_diag2'] > 800 and row['level2_diag2'] < 1000):\n",
    "        train.loc[index, 'level2_diag2'] = 5\n",
    "    elif (row['level2_diag2'] > 710 and row['level2_diag2'] < 740):\n",
    "        train.loc[index, 'level2_diag2'] = 6\n",
    "    elif (row['level2_diag2'] > 580 and row['level2_diag2'] < 630) or (np.floor(row['level2_diag2']) == 788):\n",
    "        train.loc[index, 'level2_diag2'] = 7\n",
    "    elif (row['level2_diag2'] > 140 and row['level2_diag2'] < 240):\n",
    "        train.loc[index, 'level2_diag2'] = 8\n",
    "    else:\n",
    "        train.loc[index, 'level2_diag2'] = 0\n",
    "# convert this variable to float type to enable computations later\n",
    "train['level2_diag2'] = train['level2_diag2'].astype(float)\n",
    "train[['diagnosis_2','level2_diag2']].head(15).T"
   ]
  },
  {
   "cell_type": "code",
   "execution_count": 15,
   "metadata": {},
   "outputs": [
    {
     "data": {
      "text/html": [
       "<div>\n",
       "<style>\n",
       "    .dataframe thead tr:only-child th {\n",
       "        text-align: right;\n",
       "    }\n",
       "\n",
       "    .dataframe thead th {\n",
       "        text-align: left;\n",
       "    }\n",
       "\n",
       "    .dataframe tbody tr th {\n",
       "        vertical-align: top;\n",
       "    }\n",
       "</style>\n",
       "<table border=\"1\" class=\"dataframe\">\n",
       "  <thead>\n",
       "    <tr style=\"text-align: right;\">\n",
       "      <th></th>\n",
       "      <th>0</th>\n",
       "      <th>1</th>\n",
       "      <th>2</th>\n",
       "      <th>3</th>\n",
       "      <th>4</th>\n",
       "      <th>5</th>\n",
       "      <th>6</th>\n",
       "      <th>7</th>\n",
       "      <th>8</th>\n",
       "      <th>9</th>\n",
       "      <th>10</th>\n",
       "      <th>11</th>\n",
       "      <th>12</th>\n",
       "      <th>13</th>\n",
       "      <th>14</th>\n",
       "    </tr>\n",
       "  </thead>\n",
       "  <tbody>\n",
       "    <tr>\n",
       "      <th>diagnosis_3</th>\n",
       "      <td>250</td>\n",
       "      <td>280</td>\n",
       "      <td>401</td>\n",
       "      <td>787</td>\n",
       "      <td>401</td>\n",
       "      <td>250</td>\n",
       "      <td>518</td>\n",
       "      <td>E888</td>\n",
       "      <td>599</td>\n",
       "      <td>427</td>\n",
       "      <td>531</td>\n",
       "      <td>53</td>\n",
       "      <td>346</td>\n",
       "      <td>199</td>\n",
       "      <td>447</td>\n",
       "    </tr>\n",
       "    <tr>\n",
       "      <th>level3_diag3</th>\n",
       "      <td>4</td>\n",
       "      <td>0</td>\n",
       "      <td>1</td>\n",
       "      <td>3</td>\n",
       "      <td>1</td>\n",
       "      <td>4</td>\n",
       "      <td>2</td>\n",
       "      <td>0</td>\n",
       "      <td>7</td>\n",
       "      <td>1</td>\n",
       "      <td>3</td>\n",
       "      <td>0</td>\n",
       "      <td>0</td>\n",
       "      <td>8</td>\n",
       "      <td>1</td>\n",
       "    </tr>\n",
       "  </tbody>\n",
       "</table>\n",
       "</div>"
      ],
      "text/plain": [
       "               0    1    2    3    4    5    6     7    8    9    10  11   12  \\\n",
       "diagnosis_3   250  280  401  787  401  250  518  E888  599  427  531  53  346   \n",
       "level3_diag3    4    0    1    3    1    4    2     0    7    1    3   0    0   \n",
       "\n",
       "               13   14  \n",
       "diagnosis_3   199  447  \n",
       "level3_diag3    8    1  "
      ]
     },
     "execution_count": 15,
     "metadata": {},
     "output_type": "execute_result"
    }
   ],
   "source": [
    "train['level3_diag3'] = train['diagnosis_3']\n",
    "train.loc[train['diagnosis_3'].str.contains('V', na=False), ['level3_diag3']] = 0\n",
    "train.loc[train['diagnosis_3'].str.contains('E', na=False), ['level3_diag3']] = 0\n",
    "train['level3_diag3'] = train['level3_diag3'].astype('str').astype('double')\n",
    "\n",
    "for index, row in train.iterrows():\n",
    "    if (row['level3_diag3'] >= 390 and row['level3_diag3'] <= 460) or (np.floor(row['level3_diag3']) == 785):\n",
    "        train.loc[index, 'level3_diag3'] = 1\n",
    "    elif (row['level3_diag3'] > 460 and row['level3_diag3'] < 520) or (np.floor(row['level3_diag3']) == 786):\n",
    "        train.loc[index, 'level3_diag3'] = 2\n",
    "    elif (row['level3_diag3'] > 520 and row['level3_diag3'] < 580) or (np.floor(row['level3_diag3']) == 787):\n",
    "        train.loc[index, 'level3_diag3'] = 3\n",
    "    elif (np.floor(row['level3_diag3']) == 250):\n",
    "        train.loc[index, 'level3_diag3'] = 4\n",
    "    elif (row['level3_diag3'] > 800 and row['level3_diag3'] < 1000):\n",
    "        train.loc[index, 'level3_diag3'] = 5\n",
    "    elif (row['level3_diag3'] > 710 and row['level3_diag3'] < 740):\n",
    "        train.loc[index, 'level3_diag3'] = 6\n",
    "    elif (row['level3_diag3'] > 580 and row['level3_diag3'] < 630) or (np.floor(row['level3_diag3']) == 788):\n",
    "        train.loc[index, 'level3_diag3'] = 7\n",
    "    elif (row['level3_diag3'] > 140 and row['level3_diag3'] < 240):\n",
    "        train.loc[index, 'level3_diag3'] = 8\n",
    "    else:\n",
    "        train.loc[index, 'level3_diag3'] = 0\n",
    "# convert this variable to float type to enable computations later\n",
    "train['level3_diag3'] = train['level3_diag3'].astype(float)\n",
    "train[['diagnosis_3','level3_diag3']].head(15).T"
   ]
  },
  {
   "cell_type": "code",
   "execution_count": 16,
   "metadata": {},
   "outputs": [
    {
     "data": {
      "text/html": [
       "<div>\n",
       "<style>\n",
       "    .dataframe thead tr:only-child th {\n",
       "        text-align: right;\n",
       "    }\n",
       "\n",
       "    .dataframe thead th {\n",
       "        text-align: left;\n",
       "    }\n",
       "\n",
       "    .dataframe tbody tr th {\n",
       "        vertical-align: top;\n",
       "    }\n",
       "</style>\n",
       "<table border=\"1\" class=\"dataframe\">\n",
       "  <thead>\n",
       "    <tr style=\"text-align: right;\">\n",
       "      <th></th>\n",
       "      <th>0</th>\n",
       "      <th>1</th>\n",
       "      <th>2</th>\n",
       "      <th>3</th>\n",
       "      <th>4</th>\n",
       "      <th>5</th>\n",
       "      <th>6</th>\n",
       "      <th>7</th>\n",
       "      <th>8</th>\n",
       "      <th>9</th>\n",
       "      <th>10</th>\n",
       "      <th>11</th>\n",
       "      <th>12</th>\n",
       "      <th>13</th>\n",
       "      <th>14</th>\n",
       "    </tr>\n",
       "  </thead>\n",
       "  <tbody>\n",
       "    <tr>\n",
       "      <th>diagnosis_1</th>\n",
       "      <td>8</td>\n",
       "      <td>414</td>\n",
       "      <td>162</td>\n",
       "      <td>626</td>\n",
       "      <td>250.8</td>\n",
       "      <td>571</td>\n",
       "      <td>V57</td>\n",
       "      <td>427</td>\n",
       "      <td>577</td>\n",
       "      <td>428</td>\n",
       "      <td>530</td>\n",
       "      <td>38</td>\n",
       "      <td>780</td>\n",
       "      <td>V54</td>\n",
       "      <td>574</td>\n",
       "    </tr>\n",
       "    <tr>\n",
       "      <th>level1_diag1</th>\n",
       "      <td>0</td>\n",
       "      <td>1</td>\n",
       "      <td>8</td>\n",
       "      <td>7</td>\n",
       "      <td>4</td>\n",
       "      <td>3</td>\n",
       "      <td>0</td>\n",
       "      <td>1</td>\n",
       "      <td>3</td>\n",
       "      <td>1</td>\n",
       "      <td>3</td>\n",
       "      <td>0</td>\n",
       "      <td>0</td>\n",
       "      <td>0</td>\n",
       "      <td>3</td>\n",
       "    </tr>\n",
       "  </tbody>\n",
       "</table>\n",
       "</div>"
      ],
      "text/plain": [
       "             0    1    2    3      4    5    6    7    8    9    10  11   12  \\\n",
       "diagnosis_1   8  414  162  626  250.8  571  V57  427  577  428  530  38  780   \n",
       "level1_diag1  0    1    8    7      4    3    0    1    3    1    3   0    0   \n",
       "\n",
       "               13   14  \n",
       "diagnosis_1   V54  574  \n",
       "level1_diag1    0    3  "
      ]
     },
     "execution_count": 16,
     "metadata": {},
     "output_type": "execute_result"
    }
   ],
   "source": [
    "test['level1_diag1'] = test['diagnosis_1']\n",
    "test.loc[test['diagnosis_1'].str.contains('V', na=False), ['level1_diag1']] = 0\n",
    "test.loc[test['diagnosis_1'].str.contains('E', na=False), ['level1_diag1']] = 0\n",
    "test['level1_diag1'] = test['level1_diag1'].astype('str').astype('double')\n",
    "\n",
    "for index, row in test.iterrows():\n",
    "    if (row['level1_diag1'] >= 390 and row['level1_diag1'] <= 460) or (np.floor(row['level1_diag1']) == 785):\n",
    "        test.loc[index, 'level1_diag1'] = 1\n",
    "    elif (row['level1_diag1'] > 460 and row['level1_diag1'] < 520) or (np.floor(row['level1_diag1']) == 786):\n",
    "        test.loc[index, 'level1_diag1'] = 2\n",
    "    elif (row['level1_diag1'] > 520 and row['level1_diag1'] < 580) or (np.floor(row['level1_diag1']) == 787):\n",
    "        test.loc[index, 'level1_diag1'] = 3\n",
    "    elif (np.floor(row['level1_diag1']) == 250):\n",
    "        test.loc[index, 'level1_diag1'] = 4\n",
    "    elif (row['level1_diag1'] > 800 and row['level1_diag1'] < 1000):\n",
    "        test.loc[index, 'level1_diag1'] = 5\n",
    "    elif (row['level1_diag1'] > 710 and row['level1_diag1'] < 740):\n",
    "        test.loc[index, 'level1_diag1'] = 6\n",
    "    elif (row['level1_diag1'] > 580 and row['level1_diag1'] < 630) or (np.floor(row['level1_diag1']) == 788):\n",
    "        test.loc[index, 'level1_diag1'] = 7\n",
    "    elif (row['level1_diag1'] > 140 and row['level1_diag1'] < 240):\n",
    "        test.loc[index, 'level1_diag1'] = 8\n",
    "    else:\n",
    "        test.loc[index, 'level1_diag1'] = 0\n",
    "# convert this variable to float type to enable computations later\n",
    "test['level1_diag1'] = test['level1_diag1'].astype(float)\n",
    "test[['diagnosis_1','level1_diag1']].head(15).T"
   ]
  },
  {
   "cell_type": "code",
   "execution_count": 17,
   "metadata": {},
   "outputs": [
    {
     "data": {
      "text/html": [
       "<div>\n",
       "<style>\n",
       "    .dataframe thead tr:only-child th {\n",
       "        text-align: right;\n",
       "    }\n",
       "\n",
       "    .dataframe thead th {\n",
       "        text-align: left;\n",
       "    }\n",
       "\n",
       "    .dataframe tbody tr th {\n",
       "        vertical-align: top;\n",
       "    }\n",
       "</style>\n",
       "<table border=\"1\" class=\"dataframe\">\n",
       "  <thead>\n",
       "    <tr style=\"text-align: right;\">\n",
       "      <th></th>\n",
       "      <th>0</th>\n",
       "      <th>1</th>\n",
       "      <th>2</th>\n",
       "      <th>3</th>\n",
       "      <th>4</th>\n",
       "      <th>5</th>\n",
       "      <th>6</th>\n",
       "      <th>7</th>\n",
       "      <th>8</th>\n",
       "      <th>9</th>\n",
       "      <th>10</th>\n",
       "      <th>11</th>\n",
       "      <th>12</th>\n",
       "      <th>13</th>\n",
       "      <th>14</th>\n",
       "    </tr>\n",
       "  </thead>\n",
       "  <tbody>\n",
       "    <tr>\n",
       "      <th>diagnosis_2</th>\n",
       "      <td>276</td>\n",
       "      <td>997</td>\n",
       "      <td>197</td>\n",
       "      <td>340</td>\n",
       "      <td>263</td>\n",
       "      <td>789</td>\n",
       "      <td>250.12</td>\n",
       "      <td>263</td>\n",
       "      <td>574</td>\n",
       "      <td>427</td>\n",
       "      <td>496</td>\n",
       "      <td>585</td>\n",
       "      <td>496</td>\n",
       "      <td>729</td>\n",
       "      <td>574</td>\n",
       "    </tr>\n",
       "    <tr>\n",
       "      <th>level2_diag2</th>\n",
       "      <td>0</td>\n",
       "      <td>5</td>\n",
       "      <td>8</td>\n",
       "      <td>0</td>\n",
       "      <td>0</td>\n",
       "      <td>0</td>\n",
       "      <td>4</td>\n",
       "      <td>0</td>\n",
       "      <td>3</td>\n",
       "      <td>1</td>\n",
       "      <td>2</td>\n",
       "      <td>7</td>\n",
       "      <td>2</td>\n",
       "      <td>6</td>\n",
       "      <td>3</td>\n",
       "    </tr>\n",
       "  </tbody>\n",
       "</table>\n",
       "</div>"
      ],
      "text/plain": [
       "               0    1    2    3    4    5       6    7    8    9    10   11  \\\n",
       "diagnosis_2   276  997  197  340  263  789  250.12  263  574  427  496  585   \n",
       "level2_diag2    0    5    8    0    0    0       4    0    3    1    2    7   \n",
       "\n",
       "               12   13   14  \n",
       "diagnosis_2   496  729  574  \n",
       "level2_diag2    2    6    3  "
      ]
     },
     "execution_count": 17,
     "metadata": {},
     "output_type": "execute_result"
    }
   ],
   "source": [
    "test['level2_diag2'] = test['diagnosis_2']\n",
    "test.loc[test['diagnosis_2'].str.contains('V', na=False), ['level2_diag2']] = 0\n",
    "test.loc[test['diagnosis_2'].str.contains('E', na=False), ['level2_diag2']] = 0\n",
    "test['level2_diag2'] = test['level2_diag2'].astype('str').astype('double')\n",
    "\n",
    "for index, row in test.iterrows():\n",
    "    if (row['level2_diag2'] >= 390 and row['level2_diag2'] <= 460) or (np.floor(row['level2_diag2']) == 785):\n",
    "        test.loc[index, 'level2_diag2'] = 1\n",
    "    elif (row['level2_diag2'] > 460 and row['level2_diag2'] < 520) or (np.floor(row['level2_diag2']) == 786):\n",
    "        test.loc[index, 'level2_diag2'] = 2\n",
    "    elif (row['level2_diag2'] > 520 and row['level2_diag2'] < 580) or (np.floor(row['level2_diag2']) == 787):\n",
    "        test.loc[index, 'level2_diag2'] = 3\n",
    "    elif (np.floor(row['level2_diag2']) == 250):\n",
    "        test.loc[index, 'level2_diag2'] = 4\n",
    "    elif (row['level2_diag2'] > 800 and row['level2_diag2'] < 1000):\n",
    "        test.loc[index, 'level2_diag2'] = 5\n",
    "    elif (row['level2_diag2'] > 710 and row['level2_diag2'] < 740):\n",
    "        test.loc[index, 'level2_diag2'] = 6\n",
    "    elif (row['level2_diag2'] > 580 and row['level2_diag2'] < 630) or (np.floor(row['level2_diag2']) == 788):\n",
    "        test.loc[index, 'level2_diag2'] = 7\n",
    "    elif (row['level2_diag2'] > 140 and row['level2_diag2'] < 240):\n",
    "        test.loc[index, 'level2_diag2'] = 8\n",
    "    else:\n",
    "        test.loc[index, 'level2_diag2'] = 0\n",
    "# convert this variable to float type to enable computations later\n",
    "test['level2_diag2'] = test['level2_diag2'].astype(float)\n",
    "test[['diagnosis_2','level2_diag2']].head(15).T"
   ]
  },
  {
   "cell_type": "code",
   "execution_count": 18,
   "metadata": {},
   "outputs": [
    {
     "data": {
      "text/html": [
       "<div>\n",
       "<style>\n",
       "    .dataframe thead tr:only-child th {\n",
       "        text-align: right;\n",
       "    }\n",
       "\n",
       "    .dataframe thead th {\n",
       "        text-align: left;\n",
       "    }\n",
       "\n",
       "    .dataframe tbody tr th {\n",
       "        vertical-align: top;\n",
       "    }\n",
       "</style>\n",
       "<table border=\"1\" class=\"dataframe\">\n",
       "  <thead>\n",
       "    <tr style=\"text-align: right;\">\n",
       "      <th></th>\n",
       "      <th>0</th>\n",
       "      <th>1</th>\n",
       "      <th>2</th>\n",
       "      <th>3</th>\n",
       "      <th>4</th>\n",
       "      <th>5</th>\n",
       "      <th>6</th>\n",
       "      <th>7</th>\n",
       "      <th>8</th>\n",
       "      <th>9</th>\n",
       "      <th>10</th>\n",
       "      <th>11</th>\n",
       "      <th>12</th>\n",
       "      <th>13</th>\n",
       "      <th>14</th>\n",
       "    </tr>\n",
       "  </thead>\n",
       "  <tbody>\n",
       "    <tr>\n",
       "      <th>diagnosis_3</th>\n",
       "      <td>578</td>\n",
       "      <td>427</td>\n",
       "      <td>198</td>\n",
       "      <td>617</td>\n",
       "      <td>787</td>\n",
       "      <td>414</td>\n",
       "      <td>276</td>\n",
       "      <td>414</td>\n",
       "      <td>396</td>\n",
       "      <td>424</td>\n",
       "      <td>427</td>\n",
       "      <td>198</td>\n",
       "      <td>428</td>\n",
       "      <td>274</td>\n",
       "      <td>250</td>\n",
       "    </tr>\n",
       "    <tr>\n",
       "      <th>level3_diag3</th>\n",
       "      <td>3</td>\n",
       "      <td>1</td>\n",
       "      <td>8</td>\n",
       "      <td>7</td>\n",
       "      <td>3</td>\n",
       "      <td>1</td>\n",
       "      <td>0</td>\n",
       "      <td>1</td>\n",
       "      <td>1</td>\n",
       "      <td>1</td>\n",
       "      <td>1</td>\n",
       "      <td>8</td>\n",
       "      <td>1</td>\n",
       "      <td>0</td>\n",
       "      <td>4</td>\n",
       "    </tr>\n",
       "  </tbody>\n",
       "</table>\n",
       "</div>"
      ],
      "text/plain": [
       "               0    1    2    3    4    5    6    7    8    9    10   11   12  \\\n",
       "diagnosis_3   578  427  198  617  787  414  276  414  396  424  427  198  428   \n",
       "level3_diag3    3    1    8    7    3    1    0    1    1    1    1    8    1   \n",
       "\n",
       "               13   14  \n",
       "diagnosis_3   274  250  \n",
       "level3_diag3    0    4  "
      ]
     },
     "execution_count": 18,
     "metadata": {},
     "output_type": "execute_result"
    }
   ],
   "source": [
    "test['level3_diag3'] = test['diagnosis_3']\n",
    "test.loc[test['diagnosis_3'].str.contains('V', na=False), ['level3_diag3']] = 0\n",
    "test.loc[test['diagnosis_3'].str.contains('E', na=False), ['level3_diag3']] = 0\n",
    "test['level3_diag3'] = test['level3_diag3'].astype('str').astype('double')\n",
    "\n",
    "for index, row in test.iterrows():\n",
    "    if (row['level3_diag3'] >= 390 and row['level3_diag3'] <= 460) or (np.floor(row['level3_diag3']) == 785):\n",
    "        test.loc[index, 'level3_diag3'] = 1\n",
    "    elif (row['level3_diag3'] > 460 and row['level3_diag3'] < 520) or (np.floor(row['level3_diag3']) == 786):\n",
    "        test.loc[index, 'level3_diag3'] = 2\n",
    "    elif (row['level3_diag3'] > 520 and row['level3_diag3'] < 580) or (np.floor(row['level3_diag3']) == 787):\n",
    "        test.loc[index, 'level3_diag3'] = 3\n",
    "    elif (np.floor(row['level3_diag3']) == 250):\n",
    "        test.loc[index, 'level3_diag3'] = 4\n",
    "    elif (row['level3_diag3'] > 800 and row['level3_diag3'] < 1000):\n",
    "        test.loc[index, 'level3_diag3'] = 5\n",
    "    elif (row['level3_diag3'] > 710 and row['level3_diag3'] < 740):\n",
    "        test.loc[index, 'level3_diag3'] = 6\n",
    "    elif (row['level3_diag3'] > 580 and row['level3_diag3'] < 630) or (np.floor(row['level3_diag3']) == 788):\n",
    "        test.loc[index, 'level3_diag3'] = 7\n",
    "    elif (row['level3_diag3'] > 140 and row['level3_diag3'] < 240):\n",
    "        test.loc[index, 'level3_diag3'] = 8\n",
    "    else:\n",
    "        test.loc[index, 'level3_diag3'] = 0\n",
    "# convert this variable to float type to enable computations later\n",
    "test['level3_diag3'] = test['level3_diag3'].astype(float)\n",
    "test[['diagnosis_3','level3_diag3']].head(15).T"
   ]
  },
  {
   "cell_type": "code",
   "execution_count": 19,
   "metadata": {},
   "outputs": [
    {
     "name": "stdout",
     "output_type": "stream",
     "text": [
      "(34650, 29)\n",
      "(14630, 29)\n"
     ]
    }
   ],
   "source": [
    "train = train.drop(['diagnosis_1', 'diagnosis_2','diagnosis_3'], axis =1)\n",
    "print(train.shape)\n",
    "test = test.drop(['diagnosis_1', 'diagnosis_2','diagnosis_3'], axis =1)\n",
    "print(test.shape)"
   ]
  },
  {
   "cell_type": "code",
   "execution_count": 20,
   "metadata": {
    "collapsed": true
   },
   "outputs": [],
   "source": [
    "train['Admission_date'] = pd.to_datetime(train['Admission_date'], format='%Y/%m/%d', utc=True)\n",
    "train['Discharge_date'] = pd.to_datetime(train['Discharge_date'], format='%Y/%m/%d', utc=True)\n",
    "test['Admission_date'] = pd.to_datetime(test['Admission_date'], format='%Y/%m/%d', utc=True)\n",
    "test['Discharge_date'] = pd.to_datetime(test['Discharge_date'], format='%Y/%m/%d', utc=True)"
   ]
  },
  {
   "cell_type": "code",
   "execution_count": 21,
   "metadata": {},
   "outputs": [
    {
     "data": {
      "text/html": [
       "<div>\n",
       "<style>\n",
       "    .dataframe thead tr:only-child th {\n",
       "        text-align: right;\n",
       "    }\n",
       "\n",
       "    .dataframe thead th {\n",
       "        text-align: left;\n",
       "    }\n",
       "\n",
       "    .dataframe tbody tr th {\n",
       "        vertical-align: top;\n",
       "    }\n",
       "</style>\n",
       "<table border=\"1\" class=\"dataframe\">\n",
       "  <thead>\n",
       "    <tr style=\"text-align: right;\">\n",
       "      <th></th>\n",
       "      <th>race</th>\n",
       "      <th>gender</th>\n",
       "      <th>age</th>\n",
       "      <th>admission_type_id</th>\n",
       "      <th>discharge_disposition_id</th>\n",
       "      <th>Admission_date</th>\n",
       "      <th>Discharge_date</th>\n",
       "      <th>num_lab_procedures</th>\n",
       "      <th>num_procedures</th>\n",
       "      <th>num_medications</th>\n",
       "      <th>...</th>\n",
       "      <th>pioglitazone</th>\n",
       "      <th>rosiglitazone</th>\n",
       "      <th>acarbose</th>\n",
       "      <th>insulin</th>\n",
       "      <th>change</th>\n",
       "      <th>diabetesMed</th>\n",
       "      <th>level1_diag1</th>\n",
       "      <th>level2_diag2</th>\n",
       "      <th>level3_diag3</th>\n",
       "      <th>Difference</th>\n",
       "    </tr>\n",
       "  </thead>\n",
       "  <tbody>\n",
       "    <tr>\n",
       "      <th>0</th>\n",
       "      <td>Caucasian</td>\n",
       "      <td>Male</td>\n",
       "      <td>[80-90)</td>\n",
       "      <td>2</td>\n",
       "      <td>1</td>\n",
       "      <td>2015-07-18</td>\n",
       "      <td>2015-07-23</td>\n",
       "      <td>18</td>\n",
       "      <td>1</td>\n",
       "      <td>7</td>\n",
       "      <td>...</td>\n",
       "      <td>No</td>\n",
       "      <td>No</td>\n",
       "      <td>No</td>\n",
       "      <td>Up</td>\n",
       "      <td>Ch</td>\n",
       "      <td>Yes</td>\n",
       "      <td>8.0</td>\n",
       "      <td>1.0</td>\n",
       "      <td>4.0</td>\n",
       "      <td>5.0</td>\n",
       "    </tr>\n",
       "    <tr>\n",
       "      <th>1</th>\n",
       "      <td>Caucasian</td>\n",
       "      <td>Male</td>\n",
       "      <td>[70-80)</td>\n",
       "      <td>1</td>\n",
       "      <td>3</td>\n",
       "      <td>2016-04-23</td>\n",
       "      <td>2016-04-29</td>\n",
       "      <td>40</td>\n",
       "      <td>4</td>\n",
       "      <td>16</td>\n",
       "      <td>...</td>\n",
       "      <td>No</td>\n",
       "      <td>No</td>\n",
       "      <td>No</td>\n",
       "      <td>No</td>\n",
       "      <td>No</td>\n",
       "      <td>Yes</td>\n",
       "      <td>8.0</td>\n",
       "      <td>4.0</td>\n",
       "      <td>0.0</td>\n",
       "      <td>6.0</td>\n",
       "    </tr>\n",
       "    <tr>\n",
       "      <th>2</th>\n",
       "      <td>Caucasian</td>\n",
       "      <td>Female</td>\n",
       "      <td>[60-70)</td>\n",
       "      <td>2</td>\n",
       "      <td>1</td>\n",
       "      <td>2016-05-13</td>\n",
       "      <td>2016-05-17</td>\n",
       "      <td>39</td>\n",
       "      <td>1</td>\n",
       "      <td>12</td>\n",
       "      <td>...</td>\n",
       "      <td>No</td>\n",
       "      <td>No</td>\n",
       "      <td>No</td>\n",
       "      <td>No</td>\n",
       "      <td>Ch</td>\n",
       "      <td>Yes</td>\n",
       "      <td>3.0</td>\n",
       "      <td>4.0</td>\n",
       "      <td>1.0</td>\n",
       "      <td>4.0</td>\n",
       "    </tr>\n",
       "    <tr>\n",
       "      <th>3</th>\n",
       "      <td>Caucasian</td>\n",
       "      <td>Female</td>\n",
       "      <td>[70-80)</td>\n",
       "      <td>1</td>\n",
       "      <td>1</td>\n",
       "      <td>2015-06-16</td>\n",
       "      <td>2015-06-18</td>\n",
       "      <td>1</td>\n",
       "      <td>0</td>\n",
       "      <td>10</td>\n",
       "      <td>...</td>\n",
       "      <td>No</td>\n",
       "      <td>No</td>\n",
       "      <td>No</td>\n",
       "      <td>No</td>\n",
       "      <td>No</td>\n",
       "      <td>Yes</td>\n",
       "      <td>2.0</td>\n",
       "      <td>1.0</td>\n",
       "      <td>3.0</td>\n",
       "      <td>2.0</td>\n",
       "    </tr>\n",
       "    <tr>\n",
       "      <th>4</th>\n",
       "      <td>Caucasian</td>\n",
       "      <td>Female</td>\n",
       "      <td>[60-70)</td>\n",
       "      <td>1</td>\n",
       "      <td>1</td>\n",
       "      <td>2016-03-08</td>\n",
       "      <td>2016-03-09</td>\n",
       "      <td>44</td>\n",
       "      <td>0</td>\n",
       "      <td>16</td>\n",
       "      <td>...</td>\n",
       "      <td>No</td>\n",
       "      <td>No</td>\n",
       "      <td>No</td>\n",
       "      <td>Steady</td>\n",
       "      <td>No</td>\n",
       "      <td>Yes</td>\n",
       "      <td>4.0</td>\n",
       "      <td>2.0</td>\n",
       "      <td>1.0</td>\n",
       "      <td>1.0</td>\n",
       "    </tr>\n",
       "  </tbody>\n",
       "</table>\n",
       "<p>5 rows × 30 columns</p>\n",
       "</div>"
      ],
      "text/plain": [
       "        race  gender      age  admission_type_id  discharge_disposition_id  \\\n",
       "0  Caucasian    Male  [80-90)                  2                         1   \n",
       "1  Caucasian    Male  [70-80)                  1                         3   \n",
       "2  Caucasian  Female  [60-70)                  2                         1   \n",
       "3  Caucasian  Female  [70-80)                  1                         1   \n",
       "4  Caucasian  Female  [60-70)                  1                         1   \n",
       "\n",
       "  Admission_date Discharge_date  num_lab_procedures  num_procedures  \\\n",
       "0     2015-07-18     2015-07-23                  18               1   \n",
       "1     2016-04-23     2016-04-29                  40               4   \n",
       "2     2016-05-13     2016-05-17                  39               1   \n",
       "3     2015-06-16     2015-06-18                   1               0   \n",
       "4     2016-03-08     2016-03-09                  44               0   \n",
       "\n",
       "   num_medications    ...      pioglitazone rosiglitazone acarbose insulin  \\\n",
       "0                7    ...                No            No       No      Up   \n",
       "1               16    ...                No            No       No      No   \n",
       "2               12    ...                No            No       No      No   \n",
       "3               10    ...                No            No       No      No   \n",
       "4               16    ...                No            No       No  Steady   \n",
       "\n",
       "  change diabetesMed level1_diag1 level2_diag2 level3_diag3 Difference  \n",
       "0     Ch         Yes          8.0          1.0          4.0        5.0  \n",
       "1     No         Yes          8.0          4.0          0.0        6.0  \n",
       "2     Ch         Yes          3.0          4.0          1.0        4.0  \n",
       "3     No         Yes          2.0          1.0          3.0        2.0  \n",
       "4     No         Yes          4.0          2.0          1.0        1.0  \n",
       "\n",
       "[5 rows x 30 columns]"
      ]
     },
     "execution_count": 21,
     "metadata": {},
     "output_type": "execute_result"
    }
   ],
   "source": [
    "train['Difference'] = train['Discharge_date'].sub(train['Admission_date'], axis=0)\n",
    "train['Difference'] = train['Difference'] / np.timedelta64(1, 'D')\n",
    "train.head()"
   ]
  },
  {
   "cell_type": "code",
   "execution_count": 22,
   "metadata": {},
   "outputs": [
    {
     "data": {
      "text/html": [
       "<div>\n",
       "<style>\n",
       "    .dataframe thead tr:only-child th {\n",
       "        text-align: right;\n",
       "    }\n",
       "\n",
       "    .dataframe thead th {\n",
       "        text-align: left;\n",
       "    }\n",
       "\n",
       "    .dataframe tbody tr th {\n",
       "        vertical-align: top;\n",
       "    }\n",
       "</style>\n",
       "<table border=\"1\" class=\"dataframe\">\n",
       "  <thead>\n",
       "    <tr style=\"text-align: right;\">\n",
       "      <th></th>\n",
       "      <th>race</th>\n",
       "      <th>gender</th>\n",
       "      <th>age</th>\n",
       "      <th>admission_type_id</th>\n",
       "      <th>discharge_disposition_id</th>\n",
       "      <th>Admission_date</th>\n",
       "      <th>Discharge_date</th>\n",
       "      <th>num_lab_procedures</th>\n",
       "      <th>num_procedures</th>\n",
       "      <th>num_medications</th>\n",
       "      <th>...</th>\n",
       "      <th>pioglitazone</th>\n",
       "      <th>rosiglitazone</th>\n",
       "      <th>acarbose</th>\n",
       "      <th>insulin</th>\n",
       "      <th>change</th>\n",
       "      <th>diabetesMed</th>\n",
       "      <th>level1_diag1</th>\n",
       "      <th>level2_diag2</th>\n",
       "      <th>level3_diag3</th>\n",
       "      <th>Difference</th>\n",
       "    </tr>\n",
       "  </thead>\n",
       "  <tbody>\n",
       "    <tr>\n",
       "      <th>0</th>\n",
       "      <td>Caucasian</td>\n",
       "      <td>Female</td>\n",
       "      <td>[60-70)</td>\n",
       "      <td>1</td>\n",
       "      <td>3</td>\n",
       "      <td>2016-08-19</td>\n",
       "      <td>2016-08-23</td>\n",
       "      <td>49</td>\n",
       "      <td>0</td>\n",
       "      <td>9</td>\n",
       "      <td>...</td>\n",
       "      <td>No</td>\n",
       "      <td>No</td>\n",
       "      <td>No</td>\n",
       "      <td>No</td>\n",
       "      <td>No</td>\n",
       "      <td>No</td>\n",
       "      <td>0.0</td>\n",
       "      <td>0.0</td>\n",
       "      <td>3.0</td>\n",
       "      <td>4.0</td>\n",
       "    </tr>\n",
       "    <tr>\n",
       "      <th>1</th>\n",
       "      <td>Caucasian</td>\n",
       "      <td>Male</td>\n",
       "      <td>[50-60)</td>\n",
       "      <td>3</td>\n",
       "      <td>6</td>\n",
       "      <td>2016-07-19</td>\n",
       "      <td>2016-07-23</td>\n",
       "      <td>42</td>\n",
       "      <td>3</td>\n",
       "      <td>28</td>\n",
       "      <td>...</td>\n",
       "      <td>No</td>\n",
       "      <td>No</td>\n",
       "      <td>No</td>\n",
       "      <td>Steady</td>\n",
       "      <td>Ch</td>\n",
       "      <td>Yes</td>\n",
       "      <td>1.0</td>\n",
       "      <td>5.0</td>\n",
       "      <td>1.0</td>\n",
       "      <td>4.0</td>\n",
       "    </tr>\n",
       "    <tr>\n",
       "      <th>2</th>\n",
       "      <td>Caucasian</td>\n",
       "      <td>Female</td>\n",
       "      <td>[50-60)</td>\n",
       "      <td>6</td>\n",
       "      <td>1</td>\n",
       "      <td>2017-02-28</td>\n",
       "      <td>2017-03-11</td>\n",
       "      <td>61</td>\n",
       "      <td>1</td>\n",
       "      <td>15</td>\n",
       "      <td>...</td>\n",
       "      <td>No</td>\n",
       "      <td>No</td>\n",
       "      <td>No</td>\n",
       "      <td>Down</td>\n",
       "      <td>Ch</td>\n",
       "      <td>Yes</td>\n",
       "      <td>8.0</td>\n",
       "      <td>8.0</td>\n",
       "      <td>8.0</td>\n",
       "      <td>11.0</td>\n",
       "    </tr>\n",
       "    <tr>\n",
       "      <th>3</th>\n",
       "      <td>AfricanAmerican</td>\n",
       "      <td>Female</td>\n",
       "      <td>[40-50)</td>\n",
       "      <td>3</td>\n",
       "      <td>18</td>\n",
       "      <td>2016-07-08</td>\n",
       "      <td>2016-07-12</td>\n",
       "      <td>35</td>\n",
       "      <td>4</td>\n",
       "      <td>29</td>\n",
       "      <td>...</td>\n",
       "      <td>No</td>\n",
       "      <td>No</td>\n",
       "      <td>No</td>\n",
       "      <td>No</td>\n",
       "      <td>No</td>\n",
       "      <td>Yes</td>\n",
       "      <td>7.0</td>\n",
       "      <td>0.0</td>\n",
       "      <td>7.0</td>\n",
       "      <td>4.0</td>\n",
       "    </tr>\n",
       "    <tr>\n",
       "      <th>4</th>\n",
       "      <td>Caucasian</td>\n",
       "      <td>Female</td>\n",
       "      <td>[60-70)</td>\n",
       "      <td>1</td>\n",
       "      <td>3</td>\n",
       "      <td>2017-09-08</td>\n",
       "      <td>2017-09-16</td>\n",
       "      <td>56</td>\n",
       "      <td>1</td>\n",
       "      <td>22</td>\n",
       "      <td>...</td>\n",
       "      <td>No</td>\n",
       "      <td>No</td>\n",
       "      <td>No</td>\n",
       "      <td>No</td>\n",
       "      <td>No</td>\n",
       "      <td>No</td>\n",
       "      <td>4.0</td>\n",
       "      <td>0.0</td>\n",
       "      <td>3.0</td>\n",
       "      <td>8.0</td>\n",
       "    </tr>\n",
       "  </tbody>\n",
       "</table>\n",
       "<p>5 rows × 30 columns</p>\n",
       "</div>"
      ],
      "text/plain": [
       "              race  gender      age  admission_type_id  \\\n",
       "0        Caucasian  Female  [60-70)                  1   \n",
       "1        Caucasian    Male  [50-60)                  3   \n",
       "2        Caucasian  Female  [50-60)                  6   \n",
       "3  AfricanAmerican  Female  [40-50)                  3   \n",
       "4        Caucasian  Female  [60-70)                  1   \n",
       "\n",
       "   discharge_disposition_id Admission_date Discharge_date  num_lab_procedures  \\\n",
       "0                         3     2016-08-19     2016-08-23                  49   \n",
       "1                         6     2016-07-19     2016-07-23                  42   \n",
       "2                         1     2017-02-28     2017-03-11                  61   \n",
       "3                        18     2016-07-08     2016-07-12                  35   \n",
       "4                         3     2017-09-08     2017-09-16                  56   \n",
       "\n",
       "   num_procedures  num_medications    ...      pioglitazone rosiglitazone  \\\n",
       "0               0                9    ...                No            No   \n",
       "1               3               28    ...                No            No   \n",
       "2               1               15    ...                No            No   \n",
       "3               4               29    ...                No            No   \n",
       "4               1               22    ...                No            No   \n",
       "\n",
       "  acarbose insulin change diabetesMed level1_diag1 level2_diag2 level3_diag3  \\\n",
       "0       No      No     No          No          0.0          0.0          3.0   \n",
       "1       No  Steady     Ch         Yes          1.0          5.0          1.0   \n",
       "2       No    Down     Ch         Yes          8.0          8.0          8.0   \n",
       "3       No      No     No         Yes          7.0          0.0          7.0   \n",
       "4       No      No     No          No          4.0          0.0          3.0   \n",
       "\n",
       "  Difference  \n",
       "0        4.0  \n",
       "1        4.0  \n",
       "2       11.0  \n",
       "3        4.0  \n",
       "4        8.0  \n",
       "\n",
       "[5 rows x 30 columns]"
      ]
     },
     "execution_count": 22,
     "metadata": {},
     "output_type": "execute_result"
    }
   ],
   "source": [
    "test['Difference'] = test['Discharge_date'].sub(test['Admission_date'], axis=0)\n",
    "test['Difference'] = test['Difference'] / np.timedelta64(1, 'D')\n",
    "test.head()"
   ]
  },
  {
   "cell_type": "code",
   "execution_count": 23,
   "metadata": {},
   "outputs": [
    {
     "name": "stdout",
     "output_type": "stream",
     "text": [
      "(34650, 28)\n",
      "(14630, 28)\n"
     ]
    }
   ],
   "source": [
    "train = train.drop(['Admission_date','Discharge_date'], axis=1)\n",
    "test = test.drop(['Admission_date','Discharge_date'], axis=1)\n",
    "print(train.shape)\n",
    "print(test.shape)"
   ]
  },
  {
   "cell_type": "code",
   "execution_count": 24,
   "metadata": {
    "collapsed": true
   },
   "outputs": [],
   "source": [
    "train['A1Cresult'] = train['A1Cresult'].replace('>7', 3)\n",
    "train['A1Cresult'] = train['A1Cresult'].replace('>8', 2)\n",
    "train['A1Cresult'] = train['A1Cresult'].replace('Norm', 1)\n",
    "train['A1Cresult'] = train['A1Cresult'].replace('None', 0)\n",
    "train['max_glu_serum'] = train['max_glu_serum'].replace('>200', 3)\n",
    "train['max_glu_serum'] = train['max_glu_serum'].replace('>300', 2)\n",
    "train['max_glu_serum'] = train['max_glu_serum'].replace('Norm', 1)\n",
    "train['max_glu_serum'] = train['max_glu_serum'].replace('None', 0)"
   ]
  },
  {
   "cell_type": "code",
   "execution_count": 25,
   "metadata": {
    "collapsed": true
   },
   "outputs": [],
   "source": [
    "test['A1Cresult'] = test['A1Cresult'].replace('>7', 3)\n",
    "test['A1Cresult'] = test['A1Cresult'].replace('>8', 2)\n",
    "test['A1Cresult'] = test['A1Cresult'].replace('Norm', 1)\n",
    "test['A1Cresult'] = test['A1Cresult'].replace('None', 0)\n",
    "test['max_glu_serum'] = test['max_glu_serum'].replace('>200', 3)\n",
    "test['max_glu_serum'] = test['max_glu_serum'].replace('>300', 2)\n",
    "test['max_glu_serum'] = test['max_glu_serum'].replace('Norm', 1)\n",
    "test['max_glu_serum'] = test['max_glu_serum'].replace('None', 0)"
   ]
  },
  {
   "cell_type": "code",
   "execution_count": 26,
   "metadata": {
    "collapsed": true
   },
   "outputs": [],
   "source": [
    "train_new = pd.get_dummies(train, columns=[\"race\", \"gender\", \"age\", \"admission_type_id\", \"discharge_disposition_id\", \"max_glu_serum\", \"A1Cresult\", \"metformin\", \"repaglinide\", \"nateglinide\", \"chlorpropamide\",\"glimepiride\", \"glipizide\", \"glyburide\", \"pioglitazone\",\"rosiglitazone\", \"acarbose\", \"insulin\", \"change\", \"diabetesMed\", \"level1_diag1\", \"level2_diag2\", \"level3_diag3\"], prefix = [\"race\",\"gender\",\"age\",\"admission\", \"dis\", \"max\", \"A1\", \"met\", \"rep\", \"nat\", \"chl\", \"gli\", \"glip\", \"gly\", \"pio\", \"ros\", \"acar\", \"in\", \"ch\", \"diabM\", \"l1d1\", \"l2d2\", \"l3d3\"])\n",
    "test_new = pd.get_dummies(test, columns=[\"race\", \"gender\", \"age\", \"admission_type_id\", \"discharge_disposition_id\", \"max_glu_serum\", \"A1Cresult\", \"metformin\", \"repaglinide\", \"nateglinide\", \"chlorpropamide\",\"glimepiride\", \"glipizide\", \"glyburide\", \"pioglitazone\",\"rosiglitazone\", \"acarbose\", \"insulin\", \"change\", \"diabetesMed\", \"level1_diag1\", \"level2_diag2\", \"level3_diag3\"], prefix = [\"race\",\"gender\",\"age\",\"admission\", \"dis\", \"max\", \"A1\", \"met\", \"rep\", \"nat\", \"chl\", \"gli\", \"glip\", \"gly\", \"pio\", \"ros\", \"acar\", \"in\", \"ch\", \"diabM\", \"l1d1\", \"l2d2\", \"l3d3\"])"
   ]
  },
  {
   "cell_type": "code",
   "execution_count": 27,
   "metadata": {},
   "outputs": [
    {
     "data": {
      "text/plain": [
       "{'chl_Down', 'chl_Up', 'dis_10', 'dis_12', 'dis_16', 'dis_20', 'dis_27'}"
      ]
     },
     "execution_count": 27,
     "metadata": {},
     "output_type": "execute_result"
    }
   ],
   "source": [
    "set(train_new.columns.values.tolist()) - set(test_new.columns.values.tolist())"
   ]
  },
  {
   "cell_type": "code",
   "execution_count": 28,
   "metadata": {},
   "outputs": [
    {
     "name": "stdout",
     "output_type": "stream",
     "text": [
      "Difference set()\n"
     ]
    }
   ],
   "source": [
    "train_new = train_new.drop(['chl_Down', 'chl_Up', 'dis_10', 'dis_12', 'dis_16', 'dis_20', 'dis_27'],axis=1)\n",
    "print(\"Difference\",set(train_new.columns.values.tolist()) - set(test_new.columns.values.tolist()))"
   ]
  },
  {
   "cell_type": "code",
   "execution_count": 29,
   "metadata": {
    "collapsed": true
   },
   "outputs": [],
   "source": [
    "from imblearn.under_sampling import RandomUnderSampler"
   ]
  },
  {
   "cell_type": "code",
   "execution_count": 88,
   "metadata": {
    "collapsed": true
   },
   "outputs": [],
   "source": [
    "ros = RandomUnderSampler(random_state=42)\n",
    "X_resampled, y_resampled = ros.fit_sample(train_new, target)\n",
    "from sklearn.model_selection import train_test_split\n",
    "X_train, X_test, y_train, y_test = train_test_split(X_resampled, y_resampled,test_size = 0.2, random_state=42)"
   ]
  },
  {
   "cell_type": "code",
   "execution_count": 89,
   "metadata": {
    "collapsed": true
   },
   "outputs": [],
   "source": [
    "from sklearn import tree"
   ]
  },
  {
   "cell_type": "code",
   "execution_count": 142,
   "metadata": {
    "collapsed": true
   },
   "outputs": [],
   "source": [
    "clf = tree.DecisionTreeClassifier()\n",
    "clf = clf.fit(X_train, y_train)"
   ]
  },
  {
   "cell_type": "code",
   "execution_count": 91,
   "metadata": {
    "collapsed": true
   },
   "outputs": [],
   "source": [
    "prediction = clf.predict(X_test)"
   ]
  },
  {
   "cell_type": "code",
   "execution_count": 92,
   "metadata": {},
   "outputs": [
    {
     "name": "stdout",
     "output_type": "stream",
     "text": [
      "Accuracy is 0.53\n",
      "Precision is 0.53\n",
      "Recall is 0.54\n",
      "AUC is 0.53\n"
     ]
    }
   ],
   "source": [
    "pd.crosstab(pd.Series(y_test, name = 'Actual'), pd.Series(prediction, name = 'Predict'), margins = True)\n",
    "from sklearn.metrics import accuracy_score, precision_score, recall_score, roc_auc_score\n",
    "print(\"Accuracy is {0:.2f}\".format(accuracy_score(y_test, prediction)))\n",
    "print(\"Precision is {0:.2f}\".format(precision_score(y_test, prediction)))\n",
    "print(\"Recall is {0:.2f}\".format(recall_score(y_test, prediction)))\n",
    "print(\"AUC is {0:.2f}\".format(roc_auc_score(y_test, prediction)))"
   ]
  },
  {
   "cell_type": "code",
   "execution_count": 93,
   "metadata": {},
   "outputs": [
    {
     "name": "stdout",
     "output_type": "stream",
     "text": [
      "             precision    recall  f1-score   support\n",
      "\n",
      "          0       0.54      0.53      0.53       964\n",
      "          1       0.53      0.54      0.53       940\n",
      "\n",
      "avg / total       0.53      0.53      0.53      1904\n",
      "\n"
     ]
    }
   ],
   "source": [
    "from sklearn.metrics import classification_report\n",
    "print(classification_report(y_test, prediction))"
   ]
  },
  {
   "cell_type": "code",
   "execution_count": 94,
   "metadata": {
    "collapsed": true
   },
   "outputs": [],
   "source": [
    "test_pred_clf = clf.predict(test_new)"
   ]
  },
  {
   "cell_type": "code",
   "execution_count": 95,
   "metadata": {},
   "outputs": [
    {
     "data": {
      "text/plain": [
       "NO              7712\n",
       "Within30days    6918\n",
       "Name: readmitted, dtype: int64"
      ]
     },
     "execution_count": 95,
     "metadata": {},
     "output_type": "execute_result"
    }
   ],
   "source": [
    "pred_test_clf=pd.DataFrame(test_pred_clf, columns=['readmitted'])\n",
    "pred_test_clf['readmitted'] = pred_test_clf['readmitted'].map({0: 'NO', 1: 'Within30days'})\n",
    "pred_test_clf['readmitted'].value_counts()"
   ]
  },
  {
   "cell_type": "code",
   "execution_count": 96,
   "metadata": {
    "collapsed": true
   },
   "outputs": [],
   "source": [
    "clf_under = pd.concat([patient, pred_test_clf], axis=1)\n",
    "clf_under.to_csv('Under_Sampled/test_pred_clf_24.csv')"
   ]
  },
  {
   "cell_type": "markdown",
   "metadata": {},
   "source": [
    "### Saving First Model"
   ]
  },
  {
   "cell_type": "code",
   "execution_count": 127,
   "metadata": {
    "collapsed": true
   },
   "outputs": [],
   "source": [
    "from sklearn.ensemble import RandomForestClassifier\n",
    "rf = RandomForestClassifier(n_estimators=100, criterion='gini', min_samples_split=2)"
   ]
  },
  {
   "cell_type": "code",
   "execution_count": 98,
   "metadata": {},
   "outputs": [
    {
     "name": "stdout",
     "output_type": "stream",
     "text": [
      "Accuracy is 0.59\n",
      "Precision is 0.58\n",
      "Recall is 0.61\n",
      "AUC is 0.59\n"
     ]
    }
   ],
   "source": [
    "rf_under = rf.fit(X_train, y_train)\n",
    "rf_pred_under = rf_under.predict(X_test)\n",
    "pd.crosstab(pd.Series(y_test, name = 'Actual'), pd.Series(rf_pred_under, name = 'Predict'), margins = True)\n",
    "from sklearn.metrics import accuracy_score, precision_score, recall_score, roc_auc_score\n",
    "print(\"Accuracy is {0:.2f}\".format(accuracy_score(y_test, rf_pred_under)))\n",
    "print(\"Precision is {0:.2f}\".format(precision_score(y_test, rf_pred_under)))\n",
    "print(\"Recall is {0:.2f}\".format(recall_score(y_test, rf_pred_under)))\n",
    "print(\"AUC is {0:.2f}\".format(roc_auc_score(y_test, rf_pred_under)))"
   ]
  },
  {
   "cell_type": "code",
   "execution_count": 99,
   "metadata": {},
   "outputs": [
    {
     "name": "stdout",
     "output_type": "stream",
     "text": [
      "             precision    recall  f1-score   support\n",
      "\n",
      "          0       0.60      0.57      0.58       964\n",
      "          1       0.58      0.61      0.59       940\n",
      "\n",
      "avg / total       0.59      0.59      0.59      1904\n",
      "\n"
     ]
    }
   ],
   "source": [
    "from sklearn.metrics import classification_report\n",
    "print(classification_report(y_test, rf_pred_under))"
   ]
  },
  {
   "cell_type": "code",
   "execution_count": 100,
   "metadata": {},
   "outputs": [
    {
     "data": {
      "text/plain": [
       "NO              8103\n",
       "Within30days    6527\n",
       "Name: readmitted, dtype: int64"
      ]
     },
     "execution_count": 100,
     "metadata": {},
     "output_type": "execute_result"
    }
   ],
   "source": [
    "test_pred_rf_under = rf_under.predict(test_new)\n",
    "pred_test_rf_under=pd.DataFrame(test_pred_rf_under, columns=['readmitted'])\n",
    "pred_test_rf_under['readmitted'] = pred_test_rf_under['readmitted'].map({0: 'NO', 1: 'Within30days'})\n",
    "pred_test_rf_under['readmitted'].value_counts()"
   ]
  },
  {
   "cell_type": "code",
   "execution_count": 101,
   "metadata": {
    "collapsed": true
   },
   "outputs": [],
   "source": [
    "#test_rf_under = pd.concat([patient, pred_test_rf_under], axis=1)\n",
    "#test_rf_under.to_csv('Under_Sampled/test_pred_rf_24.csv')"
   ]
  },
  {
   "cell_type": "markdown",
   "metadata": {
    "collapsed": true
   },
   "source": [
    "### Saving 2nd Model"
   ]
  },
  {
   "cell_type": "code",
   "execution_count": 102,
   "metadata": {
    "collapsed": true
   },
   "outputs": [],
   "source": [
    "rf1 = RandomForestClassifier(n_estimators=200, criterion='gini', min_samples_split=2, max_features='auto', min_samples_leaf=50, n_jobs=-1, random_state=50)"
   ]
  },
  {
   "cell_type": "code",
   "execution_count": 103,
   "metadata": {},
   "outputs": [
    {
     "name": "stdout",
     "output_type": "stream",
     "text": [
      "Accuracy is 0.61\n",
      "Precision is 0.60\n",
      "Recall is 0.65\n",
      "AUC is 0.61\n",
      "             precision    recall  f1-score   support\n",
      "\n",
      "          0       0.63      0.58      0.60       964\n",
      "          1       0.60      0.65      0.62       940\n",
      "\n",
      "avg / total       0.61      0.61      0.61      1904\n",
      "\n"
     ]
    }
   ],
   "source": [
    "rf_under1 = rf1.fit(X_train, y_train)\n",
    "rf_pred_under1 = rf_under1.predict(X_test)\n",
    "pd.crosstab(pd.Series(y_test, name = 'Actual'), pd.Series(rf_pred_under1, name = 'Predict'), margins = True)\n",
    "from sklearn.metrics import accuracy_score, precision_score, recall_score, roc_auc_score\n",
    "print(\"Accuracy is {0:.2f}\".format(accuracy_score(y_test, rf_pred_under1)))\n",
    "print(\"Precision is {0:.2f}\".format(precision_score(y_test, rf_pred_under1)))\n",
    "print(\"Recall is {0:.2f}\".format(recall_score(y_test, rf_pred_under1)))\n",
    "print(\"AUC is {0:.2f}\".format(roc_auc_score(y_test, rf_pred_under1)))\n",
    "print(classification_report(y_test, rf_pred_under1))"
   ]
  },
  {
   "cell_type": "code",
   "execution_count": 104,
   "metadata": {},
   "outputs": [
    {
     "data": {
      "text/plain": [
       "NO              7934\n",
       "Within30days    6696\n",
       "Name: readmitted, dtype: int64"
      ]
     },
     "execution_count": 104,
     "metadata": {},
     "output_type": "execute_result"
    }
   ],
   "source": [
    "test_pred_rf_under1 = rf_under1.predict(test_new)\n",
    "pred_test_rf_under1=pd.DataFrame(test_pred_rf_under1, columns=['readmitted'])\n",
    "pred_test_rf_under1['readmitted'] = pred_test_rf_under1['readmitted'].map({0: 'NO', 1: 'Within30days'})\n",
    "pred_test_rf_under1['readmitted'].value_counts()"
   ]
  },
  {
   "cell_type": "code",
   "execution_count": 105,
   "metadata": {},
   "outputs": [
    {
     "name": "stdout",
     "output_type": "stream",
     "text": [
      "AUC - ROC :  0.613926900327\n"
     ]
    }
   ],
   "source": [
    "from sklearn.metrics import roc_auc_score\n",
    "print(\"AUC - ROC : \", roc_auc_score(y_test,rf_pred_under1))"
   ]
  },
  {
   "cell_type": "code",
   "execution_count": 106,
   "metadata": {
    "collapsed": true
   },
   "outputs": [],
   "source": [
    "from sklearn.metrics import confusion_matrix\n",
    "cm = confusion_matrix(y_test, rf_pred_under1)"
   ]
  },
  {
   "cell_type": "code",
   "execution_count": 62,
   "metadata": {
    "collapsed": true
   },
   "outputs": [],
   "source": [
    "test_rf_under1 = pd.concat([patient, pred_test_rf_under1], axis=1)\n",
    "test_rf_under1.to_csv('./test_pred_rf_25_2.csv')"
   ]
  },
  {
   "cell_type": "code",
   "execution_count": 75,
   "metadata": {
    "collapsed": true
   },
   "outputs": [],
   "source": [
    "from sklearn.model_selection import cross_val_score"
   ]
  },
  {
   "cell_type": "code",
   "execution_count": 80,
   "metadata": {
    "collapsed": true
   },
   "outputs": [],
   "source": [
    "scores = cross_val_score(rf1, X_train, y_train, scoring='accuracy', cv = 10)"
   ]
  },
  {
   "cell_type": "code",
   "execution_count": 82,
   "metadata": {},
   "outputs": [
    {
     "name": "stdout",
     "output_type": "stream",
     "text": [
      "[ 0.8626659   0.86262626  0.86262626  0.86262626  0.86262626  0.86262626\n",
      "  0.86262626  0.86262626  0.86262626  0.86287529]\n"
     ]
    }
   ],
   "source": [
    "print(scores)"
   ]
  },
  {
   "cell_type": "code",
   "execution_count": 160,
   "metadata": {
    "collapsed": true
   },
   "outputs": [],
   "source": [
    "param_grid = {\n",
    "                 'n_estimators': [5, 10, 15, 20, 50],\n",
    "                 'max_depth': [2, 5, 7, 9],\n",
    "                'gamma':[i/10.0 for i in range(0,5)]\n",
    "#                 'n_jobs' : [-1, 1]\n",
    "             }"
   ]
  },
  {
   "cell_type": "code",
   "execution_count": 147,
   "metadata": {
    "collapsed": true
   },
   "outputs": [
    {
     "data": {
      "text/plain": [
       "GridSearchCV(cv=5, error_score='raise',\n",
       "       estimator=RandomForestClassifier(bootstrap=True, class_weight=None, criterion='gini',\n",
       "            max_depth=None, max_features='auto', max_leaf_nodes=None,\n",
       "            min_impurity_decrease=0.0, min_impurity_split=None,\n",
       "            min_samples_leaf=1, min_samples_split=2,\n",
       "            min_weight_fraction_leaf=0.0, n_estimators=100, n_jobs=1,\n",
       "            oob_score=False, random_state=None, verbose=0,\n",
       "            warm_start=False),\n",
       "       fit_params={}, iid=True, n_jobs=1,\n",
       "       param_grid={'n_estimators': [5, 10, 15, 20, 50], 'max_depth': [2, 5, 7, 9], 'n_jobs': [-1, 1]},\n",
       "       pre_dispatch='2*n_jobs', refit=True, scoring=None, verbose=0)"
      ]
     },
     "execution_count": 147,
     "metadata": {},
     "output_type": "execute_result"
    }
   ],
   "source": [
    "from sklearn.grid_search import GridSearchCV\n",
    "\n",
    "grid_clf = GridSearchCV(rf, param_grid, cv=5)\n",
    "grid_clf.fit(X_train, y_train)"
   ]
  },
  {
   "cell_type": "code",
   "execution_count": 148,
   "metadata": {},
   "outputs": [
    {
     "name": "stdout",
     "output_type": "stream",
     "text": [
      "Accuracy is 0.62\n",
      "Precision is 0.61\n",
      "Recall is 0.67\n",
      "AUC is 0.62\n",
      "             precision    recall  f1-score   support\n",
      "\n",
      "          0       0.64      0.57      0.61       964\n",
      "          1       0.61      0.67      0.63       940\n",
      "\n",
      "avg / total       0.62      0.62      0.62      1904\n",
      "\n"
     ]
    }
   ],
   "source": [
    "grid_rf_cv = grid_clf.fit(X_train, y_train)\n",
    "grid_rf_pred = grid_rf_cv.predict(X_test)\n",
    "pd.crosstab(pd.Series(y_test, name = 'Actual'), pd.Series(grid_rf_pred, name = 'Predict'), margins = True)\n",
    "from sklearn.metrics import accuracy_score, precision_score, recall_score, roc_auc_score\n",
    "print(\"Accuracy is {0:.2f}\".format(accuracy_score(y_test, grid_rf_pred)))\n",
    "print(\"Precision is {0:.2f}\".format(precision_score(y_test, grid_rf_pred)))\n",
    "print(\"Recall is {0:.2f}\".format(recall_score(y_test, grid_rf_pred)))\n",
    "print(\"AUC is {0:.2f}\".format(roc_auc_score(y_test, grid_rf_pred)))\n",
    "print(classification_report(y_test, grid_rf_pred))"
   ]
  },
  {
   "cell_type": "code",
   "execution_count": 149,
   "metadata": {},
   "outputs": [
    {
     "data": {
      "text/plain": [
       "NO              7825\n",
       "Within30days    6805\n",
       "Name: readmitted, dtype: int64"
      ]
     },
     "execution_count": 149,
     "metadata": {},
     "output_type": "execute_result"
    }
   ],
   "source": [
    "test_pred_rf_grid_cv = grid_rf_cv.predict(test_new)\n",
    "pred_test_rf_under1=pd.DataFrame(test_pred_rf_grid_cv, columns=['readmitted'])\n",
    "pred_test_rf_under1['readmitted'] = pred_test_rf_under1['readmitted'].map({0: 'NO', 1: 'Within30days'})\n",
    "pred_test_rf_under1['readmitted'].value_counts()"
   ]
  },
  {
   "cell_type": "code",
   "execution_count": 150,
   "metadata": {
    "collapsed": true
   },
   "outputs": [],
   "source": [
    "test_rf_grid_cv = pd.concat([patient, pred_test_rf_under1], axis=1)\n",
    "test_rf_grid_cv.to_csv('./test_pred_rf_grid_cv4_25.csv')"
   ]
  },
  {
   "cell_type": "code",
   "execution_count": null,
   "metadata": {
    "collapsed": true
   },
   "outputs": [],
   "source": []
  },
  {
   "cell_type": "code",
   "execution_count": 151,
   "metadata": {
    "collapsed": true
   },
   "outputs": [],
   "source": [
    "from sklearn.ensemble import GradientBoostingClassifier"
   ]
  },
  {
   "cell_type": "code",
   "execution_count": 157,
   "metadata": {
    "collapsed": true
   },
   "outputs": [],
   "source": [
    "grad_boost = GradientBoostingClassifier(n_estimators=100, learning_rate=0.1, max_depth=1, max_features='auto')"
   ]
  },
  {
   "cell_type": "code",
   "execution_count": 161,
   "metadata": {
    "collapsed": true
   },
   "outputs": [],
   "source": [
    "grid_boost = GridSearchCV(grad_boost, param_grid, cv=5)"
   ]
  },
  {
   "cell_type": "code",
   "execution_count": 162,
   "metadata": {},
   "outputs": [
    {
     "name": "stdout",
     "output_type": "stream",
     "text": [
      "Accuracy is 0.60\n",
      "Precision is 0.59\n",
      "Recall is 0.62\n",
      "AUC is 0.60\n",
      "             precision    recall  f1-score   support\n",
      "\n",
      "          0       0.63      0.59      0.61       964\n",
      "          1       0.60      0.64      0.62       940\n",
      "\n",
      "avg / total       0.61      0.61      0.61      1904\n",
      "\n"
     ]
    }
   ],
   "source": [
    "grid_model = grid_boost.fit(X_train, y_train)\n",
    "grid_boost_pred = grid_model.predict(X_test)\n",
    "pd.crosstab(pd.Series(y_test, name = 'Actual'), pd.Series(grid_boost_pred, name = 'Predict'), margins = True)\n",
    "from sklearn.metrics import accuracy_score, precision_score, recall_score, roc_auc_score\n",
    "print(\"Accuracy is {0:.2f}\".format(accuracy_score(y_test, grid_boost_pred)))\n",
    "print(\"Precision is {0:.2f}\".format(precision_score(y_test, grid_boost_pred)))\n",
    "print(\"Recall is {0:.2f}\".format(recall_score(y_test, grid_boost_pred)))\n",
    "print(\"AUC is {0:.2f}\".format(roc_auc_score(y_test, grid_boost_pred)))\n",
    "print(classification_report(y_test, grid_rf_pred))"
   ]
  },
  {
   "cell_type": "code",
   "execution_count": 163,
   "metadata": {},
   "outputs": [
    {
     "data": {
      "text/plain": [
       "NO              8015\n",
       "Within30days    6615\n",
       "Name: readmitted, dtype: int64"
      ]
     },
     "execution_count": 163,
     "metadata": {},
     "output_type": "execute_result"
    }
   ],
   "source": [
    "test_pred_grid_boost = grid_model.predict(test_new)\n",
    "pred_test_grid_boost=pd.DataFrame(test_pred_grid_boost, columns=['readmitted'])\n",
    "pred_test_grid_boost['readmitted'] = pred_test_grid_boost['readmitted'].map({0: 'NO', 1: 'Within30days'})\n",
    "pred_test_grid_boost['readmitted'].value_counts()"
   ]
  },
  {
   "cell_type": "code",
   "execution_count": 164,
   "metadata": {
    "collapsed": true
   },
   "outputs": [],
   "source": [
    "test_boost_grid_cv = pd.concat([patient, pred_test_grid_boost], axis=1)\n",
    "test_boost_grid_cv.to_csv('./test_boost_grid_cv_25.csv')"
   ]
  },
  {
   "cell_type": "code",
   "execution_count": 165,
   "metadata": {
    "collapsed": true
   },
   "outputs": [],
   "source": [
    "from xgboost.sklearn import XGBClassifier\n",
    "import xgboost as xgb"
   ]
  },
  {
   "cell_type": "code",
   "execution_count": 193,
   "metadata": {
    "collapsed": true
   },
   "outputs": [],
   "source": [
    "xgb1 = XGBClassifier(\n",
    " learning_rate =0.01,\n",
    " n_estimators=100,\n",
    " max_depth=5,\n",
    " min_child_weight=6,\n",
    " gamma=0,\n",
    " subsample=0.8,\n",
    " colsample_bytree=0.8,\n",
    " objective= 'binary:logistic',\n",
    " nthread=4,\n",
    " scale_pos_weight=1,\n",
    " seed=27)"
   ]
  },
  {
   "cell_type": "code",
   "execution_count": 194,
   "metadata": {
    "collapsed": true
   },
   "outputs": [],
   "source": [
    "xgb_model = xgb1.fit(X_train, y_train)"
   ]
  },
  {
   "cell_type": "code",
   "execution_count": 195,
   "metadata": {},
   "outputs": [
    {
     "name": "stdout",
     "output_type": "stream",
     "text": [
      "Accuracy is 0.59\n",
      "Precision is 0.58\n",
      "Recall is 0.61\n",
      "AUC is 0.59\n",
      "             precision    recall  f1-score   support\n",
      "\n",
      "          0       0.60      0.57      0.59       964\n",
      "          1       0.58      0.61      0.60       940\n",
      "\n",
      "avg / total       0.59      0.59      0.59      1904\n",
      "\n"
     ]
    }
   ],
   "source": [
    "xgboost_pred = xgb_model.predict(X_test)\n",
    "pd.crosstab(pd.Series(y_test, name = 'Actual'), pd.Series(xgboost_pred, name = 'Predict'), margins = True)\n",
    "from sklearn.metrics import accuracy_score, precision_score, recall_score, roc_auc_score\n",
    "print(\"Accuracy is {0:.2f}\".format(accuracy_score(y_test, xgboost_pred)))\n",
    "print(\"Precision is {0:.2f}\".format(precision_score(y_test, xgboost_pred)))\n",
    "print(\"Recall is {0:.2f}\".format(recall_score(y_test, xgboost_pred)))\n",
    "print(\"AUC is {0:.2f}\".format(roc_auc_score(y_test, xgboost_pred)))\n",
    "print(classification_report(y_test, xgboost_pred))"
   ]
  },
  {
   "cell_type": "code",
   "execution_count": 196,
   "metadata": {
    "collapsed": true
   },
   "outputs": [],
   "source": [
    "grid_xgb = GridSearchCV(xgb1, param_grid, cv=5)"
   ]
  },
  {
   "cell_type": "code",
   "execution_count": 197,
   "metadata": {},
   "outputs": [
    {
     "name": "stdout",
     "output_type": "stream",
     "text": [
      "Accuracy is 0.60\n",
      "Precision is 0.59\n",
      "Recall is 0.62\n",
      "AUC is 0.60\n",
      "             precision    recall  f1-score   support\n",
      "\n",
      "          0       0.61      0.57      0.59       964\n",
      "          1       0.59      0.62      0.60       940\n",
      "\n",
      "avg / total       0.60      0.60      0.59      1904\n",
      "\n"
     ]
    }
   ],
   "source": [
    "grid_xgb_cv = grid_xgb.fit(X_train, y_train)\n",
    "grid_xgb_cv_pred = grid_xgb_cv.predict(X_test)\n",
    "pd.crosstab(pd.Series(y_test, name = 'Actual'), pd.Series(grid_xgb_cv_pred, name = 'Predict'), margins = True)\n",
    "from sklearn.metrics import accuracy_score, precision_score, recall_score, roc_auc_score\n",
    "print(\"Accuracy is {0:.2f}\".format(accuracy_score(y_test, grid_xgb_cv_pred)))\n",
    "print(\"Precision is {0:.2f}\".format(precision_score(y_test, grid_xgb_cv_pred)))\n",
    "print(\"Recall is {0:.2f}\".format(recall_score(y_test, grid_xgb_cv_pred)))\n",
    "print(\"AUC is {0:.2f}\".format(roc_auc_score(y_test, grid_xgb_cv_pred)))\n",
    "print(classification_report(y_test, grid_xgb_cv_pred))"
   ]
  },
  {
   "cell_type": "code",
   "execution_count": 198,
   "metadata": {},
   "outputs": [
    {
     "data": {
      "text/plain": [
       "NO              7925\n",
       "Within30days    6705\n",
       "Name: readmitted, dtype: int64"
      ]
     },
     "execution_count": 198,
     "metadata": {},
     "output_type": "execute_result"
    }
   ],
   "source": [
    "test_pred_grid_xgb = grid_xgb_cv.predict(test_new.values)\n",
    "pred_test_grid_xgb = pd.DataFrame(test_pred_grid_xgb, columns=['readmitted'])\n",
    "pred_test_grid_xgb['readmitted'] = pred_test_grid_xgb['readmitted'].map({0: 'NO', 1: 'Within30days'})\n",
    "pred_test_grid_xgb['readmitted'].value_counts()"
   ]
  },
  {
   "cell_type": "code",
   "execution_count": 181,
   "metadata": {
    "collapsed": true
   },
   "outputs": [],
   "source": [
    "test_boost_xgb_cv = pd.concat([patient, pred_test_grid_xgb], axis=1)\n",
    "test_boost_grid_cv.to_csv('./test_xgb_grid_cv_25.csv')"
   ]
  },
  {
   "cell_type": "code",
   "execution_count": 199,
   "metadata": {},
   "outputs": [
    {
     "data": {
      "text/plain": [
       "([mean: 0.59049, std: 0.01581, params: {'max_depth': 2, 'n_estimators': 5},\n",
       "  mean: 0.59115, std: 0.01375, params: {'max_depth': 2, 'n_estimators': 10},\n",
       "  mean: 0.59075, std: 0.01275, params: {'max_depth': 2, 'n_estimators': 15},\n",
       "  mean: 0.59614, std: 0.01177, params: {'max_depth': 2, 'n_estimators': 20},\n",
       "  mean: 0.60481, std: 0.02031, params: {'max_depth': 2, 'n_estimators': 50},\n",
       "  mean: 0.59824, std: 0.01551, params: {'max_depth': 5, 'n_estimators': 5},\n",
       "  mean: 0.60402, std: 0.01868, params: {'max_depth': 5, 'n_estimators': 10},\n",
       "  mean: 0.60717, std: 0.01634, params: {'max_depth': 5, 'n_estimators': 15},\n",
       "  mean: 0.60612, std: 0.01549, params: {'max_depth': 5, 'n_estimators': 20},\n",
       "  mean: 0.61151, std: 0.01815, params: {'max_depth': 5, 'n_estimators': 50},\n",
       "  mean: 0.60415, std: 0.01906, params: {'max_depth': 7, 'n_estimators': 5},\n",
       "  mean: 0.60809, std: 0.01435, params: {'max_depth': 7, 'n_estimators': 10},\n",
       "  mean: 0.61059, std: 0.01785, params: {'max_depth': 7, 'n_estimators': 15},\n",
       "  mean: 0.61229, std: 0.02021, params: {'max_depth': 7, 'n_estimators': 20},\n",
       "  mean: 0.61781, std: 0.01510, params: {'max_depth': 7, 'n_estimators': 50},\n",
       "  mean: 0.59824, std: 0.01276, params: {'max_depth': 9, 'n_estimators': 5},\n",
       "  mean: 0.60507, std: 0.02032, params: {'max_depth': 9, 'n_estimators': 10},\n",
       "  mean: 0.60927, std: 0.01662, params: {'max_depth': 9, 'n_estimators': 15},\n",
       "  mean: 0.61164, std: 0.01905, params: {'max_depth': 9, 'n_estimators': 20},\n",
       "  mean: 0.60441, std: 0.02064, params: {'max_depth': 9, 'n_estimators': 50}],\n",
       " {'max_depth': 7, 'n_estimators': 50},\n",
       " 0.6178092986603625)"
      ]
     },
     "execution_count": 199,
     "metadata": {},
     "output_type": "execute_result"
    }
   ],
   "source": [
    "grid_xgb.grid_scores_, grid_xgb.best_params_, grid_xgb.best_score_"
   ]
  },
  {
   "cell_type": "code",
   "execution_count": 200,
   "metadata": {},
   "outputs": [
    {
     "data": {
      "text/plain": [
       "([mean: 0.56015, std: 0.01516, params: {'max_depth': 2, 'n_estimators': 5, 'n_jobs': -1},\n",
       "  mean: 0.55910, std: 0.01347, params: {'max_depth': 2, 'n_estimators': 5, 'n_jobs': 1},\n",
       "  mean: 0.59128, std: 0.01741, params: {'max_depth': 2, 'n_estimators': 10, 'n_jobs': -1},\n",
       "  mean: 0.58576, std: 0.01700, params: {'max_depth': 2, 'n_estimators': 10, 'n_jobs': 1},\n",
       "  mean: 0.59732, std: 0.01270, params: {'max_depth': 2, 'n_estimators': 15, 'n_jobs': -1},\n",
       "  mean: 0.58734, std: 0.01168, params: {'max_depth': 2, 'n_estimators': 15, 'n_jobs': 1},\n",
       "  mean: 0.59509, std: 0.01495, params: {'max_depth': 2, 'n_estimators': 20, 'n_jobs': -1},\n",
       "  mean: 0.60113, std: 0.01874, params: {'max_depth': 2, 'n_estimators': 20, 'n_jobs': 1},\n",
       "  mean: 0.59758, std: 0.01963, params: {'max_depth': 2, 'n_estimators': 50, 'n_jobs': -1},\n",
       "  mean: 0.59850, std: 0.01861, params: {'max_depth': 2, 'n_estimators': 50, 'n_jobs': 1},\n",
       "  mean: 0.59167, std: 0.01708, params: {'max_depth': 5, 'n_estimators': 5, 'n_jobs': -1},\n",
       "  mean: 0.58905, std: 0.01015, params: {'max_depth': 5, 'n_estimators': 5, 'n_jobs': 1},\n",
       "  mean: 0.60389, std: 0.02057, params: {'max_depth': 5, 'n_estimators': 10, 'n_jobs': -1},\n",
       "  mean: 0.59588, std: 0.01016, params: {'max_depth': 5, 'n_estimators': 10, 'n_jobs': 1},\n",
       "  mean: 0.59811, std: 0.01267, params: {'max_depth': 5, 'n_estimators': 15, 'n_jobs': -1},\n",
       "  mean: 0.60244, std: 0.02076, params: {'max_depth': 5, 'n_estimators': 15, 'n_jobs': 1},\n",
       "  mean: 0.60362, std: 0.01458, params: {'max_depth': 5, 'n_estimators': 20, 'n_jobs': -1},\n",
       "  mean: 0.60494, std: 0.01331, params: {'max_depth': 5, 'n_estimators': 20, 'n_jobs': 1},\n",
       "  mean: 0.60717, std: 0.01991, params: {'max_depth': 5, 'n_estimators': 50, 'n_jobs': -1},\n",
       "  mean: 0.60638, std: 0.01549, params: {'max_depth': 5, 'n_estimators': 50, 'n_jobs': 1},\n",
       "  mean: 0.58143, std: 0.01195, params: {'max_depth': 7, 'n_estimators': 5, 'n_jobs': -1},\n",
       "  mean: 0.59798, std: 0.01512, params: {'max_depth': 7, 'n_estimators': 5, 'n_jobs': 1},\n",
       "  mean: 0.60533, std: 0.00955, params: {'max_depth': 7, 'n_estimators': 10, 'n_jobs': -1},\n",
       "  mean: 0.59942, std: 0.01403, params: {'max_depth': 7, 'n_estimators': 10, 'n_jobs': 1},\n",
       "  mean: 0.60362, std: 0.01803, params: {'max_depth': 7, 'n_estimators': 15, 'n_jobs': -1},\n",
       "  mean: 0.60428, std: 0.01993, params: {'max_depth': 7, 'n_estimators': 15, 'n_jobs': 1},\n",
       "  mean: 0.60573, std: 0.01656, params: {'max_depth': 7, 'n_estimators': 20, 'n_jobs': -1},\n",
       "  mean: 0.60507, std: 0.01689, params: {'max_depth': 7, 'n_estimators': 20, 'n_jobs': 1},\n",
       "  mean: 0.60862, std: 0.01708, params: {'max_depth': 7, 'n_estimators': 50, 'n_jobs': -1},\n",
       "  mean: 0.61387, std: 0.01678, params: {'max_depth': 7, 'n_estimators': 50, 'n_jobs': 1},\n",
       "  mean: 0.58655, std: 0.01475, params: {'max_depth': 9, 'n_estimators': 5, 'n_jobs': -1},\n",
       "  mean: 0.58274, std: 0.01590, params: {'max_depth': 9, 'n_estimators': 5, 'n_jobs': 1},\n",
       "  mean: 0.60152, std: 0.01008, params: {'max_depth': 9, 'n_estimators': 10, 'n_jobs': -1},\n",
       "  mean: 0.60074, std: 0.01865, params: {'max_depth': 9, 'n_estimators': 10, 'n_jobs': 1},\n",
       "  mean: 0.60349, std: 0.02077, params: {'max_depth': 9, 'n_estimators': 15, 'n_jobs': -1},\n",
       "  mean: 0.59850, std: 0.01809, params: {'max_depth': 9, 'n_estimators': 15, 'n_jobs': 1},\n",
       "  mean: 0.60454, std: 0.01860, params: {'max_depth': 9, 'n_estimators': 20, 'n_jobs': -1},\n",
       "  mean: 0.60665, std: 0.01497, params: {'max_depth': 9, 'n_estimators': 20, 'n_jobs': 1},\n",
       "  mean: 0.61256, std: 0.01517, params: {'max_depth': 9, 'n_estimators': 50, 'n_jobs': -1},\n",
       "  mean: 0.61098, std: 0.01552, params: {'max_depth': 9, 'n_estimators': 50, 'n_jobs': 1}],\n",
       " {'max_depth': 7, 'n_estimators': 50, 'n_jobs': 1},\n",
       " 0.6138691883372734)"
      ]
     },
     "execution_count": 200,
     "metadata": {},
     "output_type": "execute_result"
    }
   ],
   "source": [
    "grid_clf.grid_scores_, grid_clf.best_params_, grid_clf.best_score_"
   ]
  },
  {
   "cell_type": "code",
   "execution_count": 192,
   "metadata": {},
   "outputs": [
    {
     "data": {
      "text/plain": [
       "array([  7.63572666e-02,   2.72995208e-02,   6.85976735e-02,\n",
       "         7.87713541e-02,   9.75986136e-02,   4.88657956e-03,\n",
       "         0.00000000e+00,   9.12819250e-03,   4.86627456e-05,\n",
       "         1.29593082e-04,   1.13498529e-02,   1.28197633e-02,\n",
       "         0.00000000e+00,   0.00000000e+00,   1.14665305e-04,\n",
       "         7.66136927e-04,   4.20054757e-03,   2.29653687e-02,\n",
       "         6.11586962e-03,   2.34852309e-02,   1.61228586e-02,\n",
       "         1.11918738e-03,   1.09464654e-02,   5.19770749e-03,\n",
       "         1.06768849e-02,   0.00000000e+00,   1.65536197e-03,\n",
       "         2.25149840e-03,   0.00000000e+00,   0.00000000e+00,\n",
       "         1.18335559e-01,   6.94035185e-03,   4.13949937e-02,\n",
       "         0.00000000e+00,   5.08626653e-03,   5.84325570e-03,\n",
       "         0.00000000e+00,   0.00000000e+00,   0.00000000e+00,\n",
       "         3.41313697e-02,   0.00000000e+00,   0.00000000e+00,\n",
       "         0.00000000e+00,   0.00000000e+00,   1.76451216e-03,\n",
       "         0.00000000e+00,   5.33122074e-02,   0.00000000e+00,\n",
       "         0.00000000e+00,   0.00000000e+00,   0.00000000e+00,\n",
       "         2.39048431e-03,   6.54415023e-05,   1.70597228e-04,\n",
       "         0.00000000e+00,   6.32770505e-03,   1.60048624e-03,\n",
       "         2.14011043e-03,   6.81486530e-04,   0.00000000e+00,\n",
       "         6.77233426e-03,   6.84161358e-03,   0.00000000e+00,\n",
       "         0.00000000e+00,   1.00910600e-03,   7.06156146e-04,\n",
       "         0.00000000e+00,   0.00000000e+00,   0.00000000e+00,\n",
       "         0.00000000e+00,   0.00000000e+00,   0.00000000e+00,\n",
       "         0.00000000e+00,   0.00000000e+00,   2.96288340e-03,\n",
       "         2.13366874e-03,   0.00000000e+00,   0.00000000e+00,\n",
       "         7.06336540e-03,   5.69488415e-03,   0.00000000e+00,\n",
       "         0.00000000e+00,   1.95110235e-03,   2.02493560e-03,\n",
       "         0.00000000e+00,   0.00000000e+00,   1.15599263e-03,\n",
       "         5.62931949e-04,   0.00000000e+00,   0.00000000e+00,\n",
       "         2.37746883e-04,   5.60107257e-04,   0.00000000e+00,\n",
       "         0.00000000e+00,   0.00000000e+00,   0.00000000e+00,\n",
       "         4.54775145e-03,   1.23452880e-02,   7.81817247e-03,\n",
       "         2.46412848e-03,   7.08727999e-03,   8.21476826e-03,\n",
       "         2.58063503e-02,   2.63269339e-02,   5.36687499e-03,\n",
       "         1.23876545e-02,   1.03720401e-02,   2.04221112e-03,\n",
       "         1.39015291e-03,   3.83051422e-03,   1.25766050e-03,\n",
       "         3.84948314e-04,   2.30797499e-03,   7.49977117e-03,\n",
       "         8.73725774e-03,   2.51901730e-03,   6.11636070e-04,\n",
       "         3.91463372e-03,   1.75921922e-04,   2.13982731e-04,\n",
       "         1.54302736e-03,   5.35773019e-03,   6.90708302e-03,\n",
       "         7.86638672e-03,   1.53396044e-03,   1.96646001e-04,\n",
       "         4.34225311e-03,   2.46605184e-04,   3.68544223e-05,\n",
       "         1.70151354e-03,   1.78502863e-04])"
      ]
     },
     "execution_count": 192,
     "metadata": {},
     "output_type": "execute_result"
    }
   ],
   "source": [
    "rf1.feature_importances_"
   ]
  },
  {
   "cell_type": "code",
   "execution_count": 217,
   "metadata": {
    "collapsed": true
   },
   "outputs": [],
   "source": [
    "param_grid = {\n",
    "                 'n_estimators': [5, 10, 15, 20, 50],\n",
    "                 'max_depth': [2, 5, 7, 9],\n",
    "                'gamma':[i/10.0 for i in range(0,5)],\n",
    "                'subsample':[i/10.0 for i in range(6,10)]\n",
    "#                 'colsample_bytree':[i/10.0 for i in range(6,10)]\n",
    "             }"
   ]
  },
  {
   "cell_type": "code",
   "execution_count": 218,
   "metadata": {
    "collapsed": true
   },
   "outputs": [],
   "source": [
    "from sklearn.grid_search import GridSearchCV"
   ]
  },
  {
   "cell_type": "code",
   "execution_count": 219,
   "metadata": {
    "collapsed": true
   },
   "outputs": [],
   "source": [
    "grid_xgb = GridSearchCV(xgb1, param_grid, cv=5)"
   ]
  },
  {
   "cell_type": "code",
   "execution_count": 220,
   "metadata": {},
   "outputs": [
    {
     "name": "stdout",
     "output_type": "stream",
     "text": [
      "Accuracy is 0.60\n",
      "Precision is 0.59\n",
      "Recall is 0.62\n",
      "AUC is 0.60\n",
      "             precision    recall  f1-score   support\n",
      "\n",
      "          0       0.61      0.57      0.59       964\n",
      "          1       0.59      0.62      0.60       940\n",
      "\n",
      "avg / total       0.60      0.60      0.59      1904\n",
      "\n"
     ]
    }
   ],
   "source": [
    "grid_xgb_cv = grid_xgb.fit(X_train, y_train)\n",
    "grid_xgb_cv_pred = grid_xgb_cv.predict(X_test)\n",
    "pd.crosstab(pd.Series(y_test, name = 'Actual'), pd.Series(grid_xgb_cv_pred, name = 'Predict'), margins = True)\n",
    "from sklearn.metrics import accuracy_score, precision_score, recall_score, roc_auc_score\n",
    "print(\"Accuracy is {0:.2f}\".format(accuracy_score(y_test, grid_xgb_cv_pred)))\n",
    "print(\"Precision is {0:.2f}\".format(precision_score(y_test, grid_xgb_cv_pred)))\n",
    "print(\"Recall is {0:.2f}\".format(recall_score(y_test, grid_xgb_cv_pred)))\n",
    "print(\"AUC is {0:.2f}\".format(roc_auc_score(y_test, grid_xgb_cv_pred)))\n",
    "print(classification_report(y_test, grid_xgb_cv_pred))"
   ]
  },
  {
   "cell_type": "code",
   "execution_count": 206,
   "metadata": {},
   "outputs": [
    {
     "data": {
      "text/plain": [
       "NO              7925\n",
       "Within30days    6705\n",
       "Name: readmitted, dtype: int64"
      ]
     },
     "execution_count": 206,
     "metadata": {},
     "output_type": "execute_result"
    }
   ],
   "source": [
    "test_pred_grid_xgb = grid_xgb_cv.predict(test_new.values)\n",
    "pred_test_grid_xgb = pd.DataFrame(test_pred_grid_xgb, columns=['readmitted'])\n",
    "pred_test_grid_xgb['readmitted'] = pred_test_grid_xgb['readmitted'].map({0: 'NO', 1: 'Within30days'})\n",
    "pred_test_grid_xgb['readmitted'].value_counts()"
   ]
  },
  {
   "cell_type": "code",
   "execution_count": null,
   "metadata": {
    "collapsed": true
   },
   "outputs": [],
   "source": []
  },
  {
   "cell_type": "code",
   "execution_count": 210,
   "metadata": {
    "collapsed": true
   },
   "outputs": [],
   "source": [
    "grid_clf = GridSearchCV(rf, param_grid, cv=5)"
   ]
  },
  {
   "cell_type": "code",
   "execution_count": 211,
   "metadata": {},
   "outputs": [
    {
     "name": "stdout",
     "output_type": "stream",
     "text": [
      "Accuracy is 0.61\n",
      "Precision is 0.60\n",
      "Recall is 0.65\n",
      "AUC is 0.61\n",
      "             precision    recall  f1-score   support\n",
      "\n",
      "          0       0.63      0.58      0.60       964\n",
      "          1       0.60      0.65      0.62       940\n",
      "\n",
      "avg / total       0.61      0.61      0.61      1904\n",
      "\n"
     ]
    }
   ],
   "source": [
    "grid_rf_cv = grid_clf.fit(X_train, y_train)\n",
    "grid_rf_pred = grid_rf_cv.predict(X_test)\n",
    "pd.crosstab(pd.Series(y_test, name = 'Actual'), pd.Series(grid_rf_pred, name = 'Predict'), margins = True)\n",
    "from sklearn.metrics import accuracy_score, precision_score, recall_score, roc_auc_score\n",
    "print(\"Accuracy is {0:.2f}\".format(accuracy_score(y_test, grid_rf_pred)))\n",
    "print(\"Precision is {0:.2f}\".format(precision_score(y_test, grid_rf_pred)))\n",
    "print(\"Recall is {0:.2f}\".format(recall_score(y_test, grid_rf_pred)))\n",
    "print(\"AUC is {0:.2f}\".format(roc_auc_score(y_test, grid_rf_pred)))\n",
    "print(classification_report(y_test, grid_rf_pred))"
   ]
  },
  {
   "cell_type": "code",
   "execution_count": 212,
   "metadata": {},
   "outputs": [
    {
     "data": {
      "text/plain": [
       "NO              7871\n",
       "Within30days    6759\n",
       "Name: readmitted, dtype: int64"
      ]
     },
     "execution_count": 212,
     "metadata": {},
     "output_type": "execute_result"
    }
   ],
   "source": [
    "test_pred_rf_grid_cv = grid_rf_cv.predict(test_new)\n",
    "pred_test_rf_under1=pd.DataFrame(test_pred_rf_grid_cv, columns=['readmitted'])\n",
    "pred_test_rf_under1['readmitted'] = pred_test_rf_under1['readmitted'].map({0: 'NO', 1: 'Within30days'})\n",
    "pred_test_rf_under1['readmitted'].value_counts()"
   ]
  },
  {
   "cell_type": "code",
   "execution_count": null,
   "metadata": {
    "collapsed": true
   },
   "outputs": [],
   "source": []
  },
  {
   "cell_type": "code",
   "execution_count": 230,
   "metadata": {
    "collapsed": true
   },
   "outputs": [],
   "source": [
    "from sklearn.naive_bayes import GaussianNB, BernoulliNB"
   ]
  },
  {
   "cell_type": "code",
   "execution_count": 222,
   "metadata": {
    "collapsed": true
   },
   "outputs": [],
   "source": [
    "    model = GaussianNB()"
   ]
  },
  {
   "cell_type": "code",
   "execution_count": 223,
   "metadata": {
    "scrolled": true
   },
   "outputs": [
    {
     "name": "stdout",
     "output_type": "stream",
     "text": [
      "Accuracy is 0.53\n",
      "Precision is 0.52\n",
      "Recall is 0.92\n",
      "AUC is 0.54\n",
      "             precision    recall  f1-score   support\n",
      "\n",
      "          0       0.66      0.16      0.26       964\n",
      "          1       0.52      0.92      0.66       940\n",
      "\n",
      "avg / total       0.59      0.53      0.46      1904\n",
      "\n"
     ]
    }
   ],
   "source": [
    "naive = model.fit(X_train, y_train)\n",
    "naive_preds = naive.predict(X_test)\n",
    "pd.crosstab(pd.Series(y_test, name = 'Actual'), pd.Series(naive_preds, name = 'Predict'), margins = True)\n",
    "from sklearn.metrics import accuracy_score, precision_score, recall_score, roc_auc_score\n",
    "print(\"Accuracy is {0:.2f}\".format(accuracy_score(y_test, naive_preds)))\n",
    "print(\"Precision is {0:.2f}\".format(precision_score(y_test, naive_preds)))\n",
    "print(\"Recall is {0:.2f}\".format(recall_score(y_test, naive_preds)))\n",
    "print(\"AUC is {0:.2f}\".format(roc_auc_score(y_test, naive_preds)))\n",
    "print(classification_report(y_test, naive_preds))"
   ]
  },
  {
   "cell_type": "code",
   "execution_count": 224,
   "metadata": {
    "collapsed": true
   },
   "outputs": [],
   "source": [
    "test_naive_preds = naive.predict(test_new)\n"
   ]
  },
  {
   "cell_type": "code",
   "execution_count": 225,
   "metadata": {},
   "outputs": [
    {
     "data": {
      "text/plain": [
       "Within30days    12636\n",
       "NO               1994\n",
       "Name: readmitted, dtype: int64"
      ]
     },
     "execution_count": 225,
     "metadata": {},
     "output_type": "execute_result"
    }
   ],
   "source": [
    "pred_test_naive = pd.DataFrame(test_naive_preds, columns=['readmitted'])\n",
    "pred_test_naive['readmitted'] = pred_test_naive['readmitted'].map({0: 'NO', 1: 'Within30days'})\n",
    "pred_test_naive['readmitted'].value_counts()"
   ]
  },
  {
   "cell_type": "code",
   "execution_count": 240,
   "metadata": {
    "collapsed": true
   },
   "outputs": [],
   "source": [
    "test_naive = pd.concat([patient, pred_test_naive], axis=1)\n",
    "test_naive.to_csv('./test_naive_25.csv')"
   ]
  },
  {
   "cell_type": "code",
   "execution_count": 228,
   "metadata": {},
   "outputs": [
    {
     "data": {
      "text/plain": [
       "Within30days    12636\n",
       "NO               1994\n",
       "Name: readmitted, dtype: int64"
      ]
     },
     "execution_count": 228,
     "metadata": {},
     "output_type": "execute_result"
    }
   ],
   "source": [
    "naive_model = model.fit(X_train, y_train)\n",
    "naive_preds_test = naive_model.predict(test_new)\n",
    "pred_test_naive1 = pd.DataFrame(naive_preds_test, columns=['readmitted'])\n",
    "pred_test_naive1['readmitted'] = pred_test_naive1['readmitted'].map({0: 'NO', 1: 'Within30days'})\n",
    "pred_test_naive1['readmitted'].value_counts()"
   ]
  },
  {
   "cell_type": "code",
   "execution_count": 237,
   "metadata": {},
   "outputs": [
    {
     "name": "stdout",
     "output_type": "stream",
     "text": [
      "Accuracy is 0.58\n",
      "Precision is 0.58\n",
      "Recall is 0.57\n",
      "AUC is 0.58\n",
      "             precision    recall  f1-score   support\n",
      "\n",
      "          0       0.59      0.60      0.59       964\n",
      "          1       0.58      0.57      0.57       940\n",
      "\n",
      "avg / total       0.58      0.58      0.58      1904\n",
      "\n"
     ]
    }
   ],
   "source": [
    "model2 = BernoulliNB(alpha=1.0)\n",
    "naive2 = model2.fit(X_train, y_train)\n",
    "naive_preds2 = naive2.predict(X_test)\n",
    "pd.crosstab(pd.Series(y_test, name = 'Actual'), pd.Series(naive_preds2, name = 'Predict'), margins = True)\n",
    "from sklearn.metrics import accuracy_score, precision_score, recall_score, roc_auc_score\n",
    "print(\"Accuracy is {0:.2f}\".format(accuracy_score(y_test, naive_preds2)))\n",
    "print(\"Precision is {0:.2f}\".format(precision_score(y_test, naive_preds2)))\n",
    "print(\"Recall is {0:.2f}\".format(recall_score(y_test, naive_preds2)))\n",
    "print(\"AUC is {0:.2f}\".format(roc_auc_score(y_test, naive_preds2)))\n",
    "print(classification_report(y_test, naive_preds2))"
   ]
  },
  {
   "cell_type": "code",
   "execution_count": 238,
   "metadata": {},
   "outputs": [
    {
     "data": {
      "text/plain": [
       "NO              8519\n",
       "Within30days    6111\n",
       "Name: readmitted, dtype: int64"
      ]
     },
     "execution_count": 238,
     "metadata": {},
     "output_type": "execute_result"
    }
   ],
   "source": [
    "test_naive_preds2 = naive2.predict(test_new)\n",
    "pred_test_naive2 = pd.DataFrame(test_naive_preds2, columns=['readmitted'])\n",
    "pred_test_naive2['readmitted'] = pred_test_naive2['readmitted'].map({0: 'NO', 1: 'Within30days'})\n",
    "pred_test_naive2['readmitted'].value_counts()"
   ]
  },
  {
   "cell_type": "code",
   "execution_count": null,
   "metadata": {
    "collapsed": true
   },
   "outputs": [],
   "source": []
  }
 ],
 "metadata": {
  "kernelspec": {
   "display_name": "Python 3",
   "language": "python",
   "name": "python3"
  },
  "language_info": {
   "codemirror_mode": {
    "name": "ipython",
    "version": 3
   },
   "file_extension": ".py",
   "mimetype": "text/x-python",
   "name": "python",
   "nbconvert_exporter": "python",
   "pygments_lexer": "ipython3",
   "version": "3.6.4"
  }
 },
 "nbformat": 4,
 "nbformat_minor": 2
}
